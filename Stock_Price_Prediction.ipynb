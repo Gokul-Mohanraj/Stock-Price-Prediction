{
  "nbformat": 4,
  "nbformat_minor": 0,
  "metadata": {
    "kernelspec": {
      "display_name": "Python 3",
      "language": "python",
      "name": "python3"
    },
    "language_info": {
      "codemirror_mode": {
        "name": "ipython",
        "version": 3
      },
      "file_extension": ".py",
      "mimetype": "text/x-python",
      "name": "python",
      "nbconvert_exporter": "python",
      "pygments_lexer": "ipython3",
      "version": "3.7.6"
    },
    "colab": {
      "name": "Stock Price Prediction.ipynb",
      "provenance": [],
      "collapsed_sections": []
    }
  },
  "cells": [
    {
      "cell_type": "markdown",
      "metadata": {
        "id": "gbmgSqDjtA7x"
      },
      "source": [
        "# Stock Market Prediction using Numerical and Textual Analysis \n",
        "### (Using Stacked LSTM)\n",
        "\n",
        "#### Datasets used\n",
        "- Historical stock prices: https://finance.yahoo.com/ <br>\n",
        "- Textual News Headlines: https://bit.ly/36fFPI6"
      ]
    },
    {
      "cell_type": "markdown",
      "metadata": {
        "id": "_SEQmj_JtA70"
      },
      "source": [
        "## 1 Downloading Datasets | Stock Price Data | Stock News Headlines Data"
      ]
    },
    {
      "cell_type": "code",
      "metadata": {
        "colab": {
          "base_uri": "https://localhost:8080/"
        },
        "id": "RxyiO4zYtA71",
        "outputId": "38ec37dd-d6c9-4f72-d9a0-05555b93d930"
      },
      "source": [
        "import nltk\n",
        "nltk.download('vader_lexicon')"
      ],
      "execution_count": null,
      "outputs": [
        {
          "output_type": "stream",
          "name": "stdout",
          "text": [
            "[nltk_data] Downloading package vader_lexicon to /root/nltk_data...\n"
          ]
        },
        {
          "output_type": "execute_result",
          "data": {
            "text/plain": [
              "True"
            ]
          },
          "metadata": {},
          "execution_count": 24
        }
      ]
    },
    {
      "cell_type": "code",
      "metadata": {
        "id": "PTsWM1MotA71"
      },
      "source": [
        "# importing libraries\n",
        "import warnings\n",
        "warnings.filterwarnings('ignore')\n",
        "\n",
        "import math\n",
        "import pandas as pd\n",
        "import numpy as np\n",
        "\n",
        "import matplotlib.pyplot as plt\n",
        "import seaborn as sns\n",
        "\n",
        "from keras.models import Sequential\n",
        "from keras.layers import Dense, LSTM, Dropout, Dense, Activation\n",
        "\n",
        "from nltk.classify import NaiveBayesClassifier\n",
        "from nltk.corpus import subjectivity\n",
        "from nltk.sentiment import SentimentAnalyzer\n",
        "from nltk.sentiment.util import *\n",
        "\n",
        "from sklearn import preprocessing, metrics\n",
        "from sklearn.preprocessing import MinMaxScaler"
      ],
      "execution_count": null,
      "outputs": []
    },
    {
      "cell_type": "code",
      "metadata": {
        "id": "OhgzjjSztA72"
      },
      "source": [
        "# reading the datasets into pandas\n",
        "stock_price = pd.read_csv('AAPL.csv')\n",
        "stock_headlines = pd.read_csv('india-news-headlines.csv')"
      ],
      "execution_count": null,
      "outputs": []
    },
    {
      "cell_type": "markdown",
      "metadata": {
        "id": "z1BGYVrWtA74"
      },
      "source": [
        "## 2 Feature Engineering"
      ]
    },
    {
      "cell_type": "code",
      "metadata": {
        "colab": {
          "base_uri": "https://localhost:8080/"
        },
        "id": "AppZvpT3tA74",
        "outputId": "18ab9f30-74ce-4886-b93e-4313bf92ccc8"
      },
      "source": [
        "# checking for null values in both the datasets\n",
        "stock_price.isna().any(), stock_headlines.isna().any()"
      ],
      "execution_count": null,
      "outputs": [
        {
          "output_type": "execute_result",
          "data": {
            "text/plain": [
              "(Date         False\n",
              " Open         False\n",
              " High         False\n",
              " Low          False\n",
              " Close        False\n",
              " Adj Close    False\n",
              " Volume       False\n",
              " dtype: bool, publish_date         False\n",
              " headline_category    False\n",
              " headline_text        False\n",
              " dtype: bool)"
            ]
          },
          "metadata": {},
          "execution_count": 18
        }
      ]
    },
    {
      "cell_type": "markdown",
      "metadata": {
        "id": "bXYOxZLYtA75"
      },
      "source": [
        "### 2.1 Stock Price Data"
      ]
    },
    {
      "cell_type": "code",
      "metadata": {
        "colab": {
          "base_uri": "https://localhost:8080/",
          "height": 451
        },
        "id": "htKKG0KQtA75",
        "outputId": "16dc7985-97aa-42d2-af49-2301fd396eca"
      },
      "source": [
        "# dropping duplicates\n",
        "stock_price = stock_price.drop_duplicates()\n",
        "\n",
        "# coverting the datatype of column 'Date' from type object to type 'datetime'\n",
        "stock_price['Date'] = pd.to_datetime(stock_price['Date']).dt.normalize()\n",
        "\n",
        "# filtering the important columns required\n",
        "stock_price = stock_price.filter(['Date', 'Close', 'Open', 'High', 'Low', 'Volume'])\n",
        "\n",
        "# setting column 'Date' as the index column\n",
        "stock_price.set_index('Date', inplace= True)\n",
        "\n",
        "# sorting the data according to the index i.e 'Date'\n",
        "stock_price = stock_price.sort_index(ascending=True, axis=0)\n",
        "stock_price"
      ],
      "execution_count": null,
      "outputs": [
        {
          "output_type": "execute_result",
          "data": {
            "text/html": [
              "<div>\n",
              "<style scoped>\n",
              "    .dataframe tbody tr th:only-of-type {\n",
              "        vertical-align: middle;\n",
              "    }\n",
              "\n",
              "    .dataframe tbody tr th {\n",
              "        vertical-align: top;\n",
              "    }\n",
              "\n",
              "    .dataframe thead th {\n",
              "        text-align: right;\n",
              "    }\n",
              "</style>\n",
              "<table border=\"1\" class=\"dataframe\">\n",
              "  <thead>\n",
              "    <tr style=\"text-align: right;\">\n",
              "      <th></th>\n",
              "      <th>Close</th>\n",
              "      <th>Open</th>\n",
              "      <th>High</th>\n",
              "      <th>Low</th>\n",
              "      <th>Volume</th>\n",
              "    </tr>\n",
              "    <tr>\n",
              "      <th>Date</th>\n",
              "      <th></th>\n",
              "      <th></th>\n",
              "      <th></th>\n",
              "      <th></th>\n",
              "      <th></th>\n",
              "    </tr>\n",
              "  </thead>\n",
              "  <tbody>\n",
              "    <tr>\n",
              "      <th>2001-01-02</th>\n",
              "      <td>0.265625</td>\n",
              "      <td>0.265625</td>\n",
              "      <td>0.272321</td>\n",
              "      <td>0.260045</td>\n",
              "      <td>452312000</td>\n",
              "    </tr>\n",
              "    <tr>\n",
              "      <th>2001-01-03</th>\n",
              "      <td>0.292411</td>\n",
              "      <td>0.258929</td>\n",
              "      <td>0.297991</td>\n",
              "      <td>0.257813</td>\n",
              "      <td>817073600</td>\n",
              "    </tr>\n",
              "    <tr>\n",
              "      <th>2001-01-04</th>\n",
              "      <td>0.304688</td>\n",
              "      <td>0.323940</td>\n",
              "      <td>0.330357</td>\n",
              "      <td>0.300223</td>\n",
              "      <td>739396000</td>\n",
              "    </tr>\n",
              "    <tr>\n",
              "      <th>2001-01-05</th>\n",
              "      <td>0.292411</td>\n",
              "      <td>0.302455</td>\n",
              "      <td>0.310268</td>\n",
              "      <td>0.286830</td>\n",
              "      <td>412356000</td>\n",
              "    </tr>\n",
              "    <tr>\n",
              "      <th>2001-01-08</th>\n",
              "      <td>0.295759</td>\n",
              "      <td>0.302455</td>\n",
              "      <td>0.303292</td>\n",
              "      <td>0.284598</td>\n",
              "      <td>373699200</td>\n",
              "    </tr>\n",
              "    <tr>\n",
              "      <th>...</th>\n",
              "      <td>...</td>\n",
              "      <td>...</td>\n",
              "      <td>...</td>\n",
              "      <td>...</td>\n",
              "      <td>...</td>\n",
              "    </tr>\n",
              "    <tr>\n",
              "      <th>2020-06-24</th>\n",
              "      <td>90.014999</td>\n",
              "      <td>91.250000</td>\n",
              "      <td>92.197502</td>\n",
              "      <td>89.629997</td>\n",
              "      <td>192623200</td>\n",
              "    </tr>\n",
              "    <tr>\n",
              "      <th>2020-06-25</th>\n",
              "      <td>91.209999</td>\n",
              "      <td>90.175003</td>\n",
              "      <td>91.250000</td>\n",
              "      <td>89.392502</td>\n",
              "      <td>137522400</td>\n",
              "    </tr>\n",
              "    <tr>\n",
              "      <th>2020-06-26</th>\n",
              "      <td>88.407501</td>\n",
              "      <td>91.102501</td>\n",
              "      <td>91.330002</td>\n",
              "      <td>88.254997</td>\n",
              "      <td>205256800</td>\n",
              "    </tr>\n",
              "    <tr>\n",
              "      <th>2020-06-29</th>\n",
              "      <td>90.445000</td>\n",
              "      <td>88.312500</td>\n",
              "      <td>90.542503</td>\n",
              "      <td>87.820000</td>\n",
              "      <td>130646000</td>\n",
              "    </tr>\n",
              "    <tr>\n",
              "      <th>2020-06-30</th>\n",
              "      <td>91.199997</td>\n",
              "      <td>90.019997</td>\n",
              "      <td>91.495003</td>\n",
              "      <td>90.000000</td>\n",
              "      <td>140223200</td>\n",
              "    </tr>\n",
              "  </tbody>\n",
              "</table>\n",
              "<p>4904 rows × 5 columns</p>\n",
              "</div>"
            ],
            "text/plain": [
              "                Close       Open       High        Low     Volume\n",
              "Date                                                             \n",
              "2001-01-02   0.265625   0.265625   0.272321   0.260045  452312000\n",
              "2001-01-03   0.292411   0.258929   0.297991   0.257813  817073600\n",
              "2001-01-04   0.304688   0.323940   0.330357   0.300223  739396000\n",
              "2001-01-05   0.292411   0.302455   0.310268   0.286830  412356000\n",
              "2001-01-08   0.295759   0.302455   0.303292   0.284598  373699200\n",
              "...               ...        ...        ...        ...        ...\n",
              "2020-06-24  90.014999  91.250000  92.197502  89.629997  192623200\n",
              "2020-06-25  91.209999  90.175003  91.250000  89.392502  137522400\n",
              "2020-06-26  88.407501  91.102501  91.330002  88.254997  205256800\n",
              "2020-06-29  90.445000  88.312500  90.542503  87.820000  130646000\n",
              "2020-06-30  91.199997  90.019997  91.495003  90.000000  140223200\n",
              "\n",
              "[4904 rows x 5 columns]"
            ]
          },
          "metadata": {},
          "execution_count": 19
        }
      ]
    },
    {
      "cell_type": "markdown",
      "metadata": {
        "id": "DzOG2hpZtA75"
      },
      "source": [
        "### 2.2 Stock News Headlines Data"
      ]
    },
    {
      "cell_type": "code",
      "metadata": {
        "colab": {
          "base_uri": "https://localhost:8080/",
          "height": 451
        },
        "id": "Rgu-uF25tA76",
        "outputId": "a162d53a-ca44-411b-9dd4-e383161e1903"
      },
      "source": [
        "# dropping duplicates\n",
        "stock_headlines = stock_headlines.drop_duplicates()\n",
        "\n",
        "# coverting the datatype of column 'Date' from type string to type 'datetime'\n",
        "stock_headlines['publish_date'] = stock_headlines['publish_date'].astype(str)\n",
        "stock_headlines['publish_date'] = stock_headlines['publish_date'].apply(lambda x: x[0:4]+'-'+x[4:6]+'-'+x[6:8])\n",
        "stock_headlines['publish_date'] = pd.to_datetime(stock_headlines['publish_date']).dt.normalize()\n",
        "\n",
        "# filtering the important columns required\n",
        "stock_headlines = stock_headlines.filter(['publish_date', 'headline_text'])\n",
        "\n",
        "# grouping the news headlines according to 'Date'\n",
        "stock_headlines = stock_headlines.groupby(['publish_date'])['headline_text'].apply(lambda x: ','.join(x)).reset_index()\n",
        "\n",
        "# setting column 'Date' as the index column\n",
        "stock_headlines.set_index('publish_date', inplace= True)\n",
        "\n",
        "# sorting the data according to the index i.e 'Date'\n",
        "stock_headlines = stock_headlines.sort_index(ascending=True, axis=0)\n",
        "stock_headlines"
      ],
      "execution_count": null,
      "outputs": [
        {
          "output_type": "execute_result",
          "data": {
            "text/html": [
              "<div>\n",
              "<style scoped>\n",
              "    .dataframe tbody tr th:only-of-type {\n",
              "        vertical-align: middle;\n",
              "    }\n",
              "\n",
              "    .dataframe tbody tr th {\n",
              "        vertical-align: top;\n",
              "    }\n",
              "\n",
              "    .dataframe thead th {\n",
              "        text-align: right;\n",
              "    }\n",
              "</style>\n",
              "<table border=\"1\" class=\"dataframe\">\n",
              "  <thead>\n",
              "    <tr style=\"text-align: right;\">\n",
              "      <th></th>\n",
              "      <th>headline_text</th>\n",
              "    </tr>\n",
              "    <tr>\n",
              "      <th>publish_date</th>\n",
              "      <th></th>\n",
              "    </tr>\n",
              "  </thead>\n",
              "  <tbody>\n",
              "    <tr>\n",
              "      <th>2001-01-02</th>\n",
              "      <td>Status quo will not be disturbed at Ayodhya; s...</td>\n",
              "    </tr>\n",
              "    <tr>\n",
              "      <th>2001-01-03</th>\n",
              "      <td>Powerless north India gropes in the dark,Think...</td>\n",
              "    </tr>\n",
              "    <tr>\n",
              "      <th>2001-01-04</th>\n",
              "      <td>The string that pulled Stephen Hawking to Indi...</td>\n",
              "    </tr>\n",
              "    <tr>\n",
              "      <th>2001-01-05</th>\n",
              "      <td>Light combat craft takes India into club class...</td>\n",
              "    </tr>\n",
              "    <tr>\n",
              "      <th>2001-01-06</th>\n",
              "      <td>Light combat craft takes India into club class...</td>\n",
              "    </tr>\n",
              "    <tr>\n",
              "      <th>...</th>\n",
              "      <td>...</td>\n",
              "    </tr>\n",
              "    <tr>\n",
              "      <th>2020-12-27</th>\n",
              "      <td>#BigInterview! Dhritiman Chatterjee: Nobody da...</td>\n",
              "    </tr>\n",
              "    <tr>\n",
              "      <th>2020-12-28</th>\n",
              "      <td>Horoscope Today; 28 December 2020: Check astro...</td>\n",
              "    </tr>\n",
              "    <tr>\n",
              "      <th>2020-12-29</th>\n",
              "      <td>Man recovers charred remains of 'thief' from h...</td>\n",
              "    </tr>\n",
              "    <tr>\n",
              "      <th>2020-12-30</th>\n",
              "      <td>Numerology Readings 30 December 2020: Predicti...</td>\n",
              "    </tr>\n",
              "    <tr>\n",
              "      <th>2020-12-31</th>\n",
              "      <td>Horoscope Today; 31 December 2020: Check astro...</td>\n",
              "    </tr>\n",
              "  </tbody>\n",
              "</table>\n",
              "<p>7262 rows × 1 columns</p>\n",
              "</div>"
            ],
            "text/plain": [
              "                                                  headline_text\n",
              "publish_date                                                   \n",
              "2001-01-02    Status quo will not be disturbed at Ayodhya; s...\n",
              "2001-01-03    Powerless north India gropes in the dark,Think...\n",
              "2001-01-04    The string that pulled Stephen Hawking to Indi...\n",
              "2001-01-05    Light combat craft takes India into club class...\n",
              "2001-01-06    Light combat craft takes India into club class...\n",
              "...                                                         ...\n",
              "2020-12-27    #BigInterview! Dhritiman Chatterjee: Nobody da...\n",
              "2020-12-28    Horoscope Today; 28 December 2020: Check astro...\n",
              "2020-12-29    Man recovers charred remains of 'thief' from h...\n",
              "2020-12-30    Numerology Readings 30 December 2020: Predicti...\n",
              "2020-12-31    Horoscope Today; 31 December 2020: Check astro...\n",
              "\n",
              "[7262 rows x 1 columns]"
            ]
          },
          "metadata": {},
          "execution_count": 20
        }
      ]
    },
    {
      "cell_type": "markdown",
      "metadata": {
        "id": "A5LSULTttA76"
      },
      "source": [
        "### 2.3 Combined Stock Data"
      ]
    },
    {
      "cell_type": "code",
      "metadata": {
        "colab": {
          "base_uri": "https://localhost:8080/",
          "height": 420
        },
        "id": "MzzRUUzxtA76",
        "outputId": "671c1495-e750-42fc-a02e-0cac8c7947ed"
      },
      "source": [
        "# concatenating the datasets stock_price and stock_headlines\n",
        "stock_data = pd.concat([stock_price, stock_headlines], axis=1)\n",
        "\n",
        "# dropping the null values if any\n",
        "stock_data.dropna(axis=0, inplace=True)\n",
        "\n",
        "# displaying the combined stock_data\n",
        "stock_data"
      ],
      "execution_count": null,
      "outputs": [
        {
          "output_type": "execute_result",
          "data": {
            "text/html": [
              "<div>\n",
              "<style scoped>\n",
              "    .dataframe tbody tr th:only-of-type {\n",
              "        vertical-align: middle;\n",
              "    }\n",
              "\n",
              "    .dataframe tbody tr th {\n",
              "        vertical-align: top;\n",
              "    }\n",
              "\n",
              "    .dataframe thead th {\n",
              "        text-align: right;\n",
              "    }\n",
              "</style>\n",
              "<table border=\"1\" class=\"dataframe\">\n",
              "  <thead>\n",
              "    <tr style=\"text-align: right;\">\n",
              "      <th></th>\n",
              "      <th>Close</th>\n",
              "      <th>Open</th>\n",
              "      <th>High</th>\n",
              "      <th>Low</th>\n",
              "      <th>Volume</th>\n",
              "      <th>headline_text</th>\n",
              "    </tr>\n",
              "  </thead>\n",
              "  <tbody>\n",
              "    <tr>\n",
              "      <th>2001-01-02</th>\n",
              "      <td>0.265625</td>\n",
              "      <td>0.265625</td>\n",
              "      <td>0.272321</td>\n",
              "      <td>0.260045</td>\n",
              "      <td>452312000.0</td>\n",
              "      <td>Status quo will not be disturbed at Ayodhya; s...</td>\n",
              "    </tr>\n",
              "    <tr>\n",
              "      <th>2001-01-03</th>\n",
              "      <td>0.292411</td>\n",
              "      <td>0.258929</td>\n",
              "      <td>0.297991</td>\n",
              "      <td>0.257813</td>\n",
              "      <td>817073600.0</td>\n",
              "      <td>Powerless north India gropes in the dark,Think...</td>\n",
              "    </tr>\n",
              "    <tr>\n",
              "      <th>2001-01-04</th>\n",
              "      <td>0.304688</td>\n",
              "      <td>0.323940</td>\n",
              "      <td>0.330357</td>\n",
              "      <td>0.300223</td>\n",
              "      <td>739396000.0</td>\n",
              "      <td>The string that pulled Stephen Hawking to Indi...</td>\n",
              "    </tr>\n",
              "    <tr>\n",
              "      <th>2001-01-05</th>\n",
              "      <td>0.292411</td>\n",
              "      <td>0.302455</td>\n",
              "      <td>0.310268</td>\n",
              "      <td>0.286830</td>\n",
              "      <td>412356000.0</td>\n",
              "      <td>Light combat craft takes India into club class...</td>\n",
              "    </tr>\n",
              "    <tr>\n",
              "      <th>2001-01-08</th>\n",
              "      <td>0.295759</td>\n",
              "      <td>0.302455</td>\n",
              "      <td>0.303292</td>\n",
              "      <td>0.284598</td>\n",
              "      <td>373699200.0</td>\n",
              "      <td>Sangh Parivar; Babri panel up the ante,Frontru...</td>\n",
              "    </tr>\n",
              "    <tr>\n",
              "      <th>...</th>\n",
              "      <td>...</td>\n",
              "      <td>...</td>\n",
              "      <td>...</td>\n",
              "      <td>...</td>\n",
              "      <td>...</td>\n",
              "      <td>...</td>\n",
              "    </tr>\n",
              "    <tr>\n",
              "      <th>2020-06-24</th>\n",
              "      <td>90.014999</td>\n",
              "      <td>91.250000</td>\n",
              "      <td>92.197502</td>\n",
              "      <td>89.629997</td>\n",
              "      <td>192623200.0</td>\n",
              "      <td>I never thought I had a voice until today: Vid...</td>\n",
              "    </tr>\n",
              "    <tr>\n",
              "      <th>2020-06-25</th>\n",
              "      <td>91.209999</td>\n",
              "      <td>90.175003</td>\n",
              "      <td>91.250000</td>\n",
              "      <td>89.392502</td>\n",
              "      <td>137522400.0</td>\n",
              "      <td>Truck firms look for new export markets to sel...</td>\n",
              "    </tr>\n",
              "    <tr>\n",
              "      <th>2020-06-26</th>\n",
              "      <td>88.407501</td>\n",
              "      <td>91.102501</td>\n",
              "      <td>91.330002</td>\n",
              "      <td>88.254997</td>\n",
              "      <td>205256800.0</td>\n",
              "      <td>Containment zone residents slam high prices ch...</td>\n",
              "    </tr>\n",
              "    <tr>\n",
              "      <th>2020-06-29</th>\n",
              "      <td>90.445000</td>\n",
              "      <td>88.312500</td>\n",
              "      <td>90.542503</td>\n",
              "      <td>87.820000</td>\n",
              "      <td>130646000.0</td>\n",
              "      <td>6 hot and stylish bikini looks of Katrina Kaif...</td>\n",
              "    </tr>\n",
              "    <tr>\n",
              "      <th>2020-06-30</th>\n",
              "      <td>91.199997</td>\n",
              "      <td>90.019997</td>\n",
              "      <td>91.495003</td>\n",
              "      <td>90.000000</td>\n",
              "      <td>140223200.0</td>\n",
              "      <td>Monday blues for office-goers as diesel price ...</td>\n",
              "    </tr>\n",
              "  </tbody>\n",
              "</table>\n",
              "<p>4876 rows × 6 columns</p>\n",
              "</div>"
            ],
            "text/plain": [
              "                Close  ...                                      headline_text\n",
              "2001-01-02   0.265625  ...  Status quo will not be disturbed at Ayodhya; s...\n",
              "2001-01-03   0.292411  ...  Powerless north India gropes in the dark,Think...\n",
              "2001-01-04   0.304688  ...  The string that pulled Stephen Hawking to Indi...\n",
              "2001-01-05   0.292411  ...  Light combat craft takes India into club class...\n",
              "2001-01-08   0.295759  ...  Sangh Parivar; Babri panel up the ante,Frontru...\n",
              "...               ...  ...                                                ...\n",
              "2020-06-24  90.014999  ...  I never thought I had a voice until today: Vid...\n",
              "2020-06-25  91.209999  ...  Truck firms look for new export markets to sel...\n",
              "2020-06-26  88.407501  ...  Containment zone residents slam high prices ch...\n",
              "2020-06-29  90.445000  ...  6 hot and stylish bikini looks of Katrina Kaif...\n",
              "2020-06-30  91.199997  ...  Monday blues for office-goers as diesel price ...\n",
              "\n",
              "[4876 rows x 6 columns]"
            ]
          },
          "metadata": {},
          "execution_count": 21
        }
      ]
    },
    {
      "cell_type": "markdown",
      "metadata": {
        "id": "ZeL8mY_ftA76"
      },
      "source": [
        "### 2.4 Calculating Sentiment Scores"
      ]
    },
    {
      "cell_type": "code",
      "metadata": {
        "colab": {
          "base_uri": "https://localhost:8080/",
          "height": 204
        },
        "id": "eVCqEhKhtA76",
        "outputId": "0b4918a2-efce-4b8d-ebf7-934481ea2410"
      },
      "source": [
        "# adding empty sentiment columns to stock_data for later calculation\n",
        "stock_data['compound'] = ''\n",
        "stock_data['negative'] = ''\n",
        "stock_data['neutral'] = ''\n",
        "stock_data['positive'] = ''\n",
        "stock_data.head()"
      ],
      "execution_count": null,
      "outputs": [
        {
          "output_type": "execute_result",
          "data": {
            "text/html": [
              "<div>\n",
              "<style scoped>\n",
              "    .dataframe tbody tr th:only-of-type {\n",
              "        vertical-align: middle;\n",
              "    }\n",
              "\n",
              "    .dataframe tbody tr th {\n",
              "        vertical-align: top;\n",
              "    }\n",
              "\n",
              "    .dataframe thead th {\n",
              "        text-align: right;\n",
              "    }\n",
              "</style>\n",
              "<table border=\"1\" class=\"dataframe\">\n",
              "  <thead>\n",
              "    <tr style=\"text-align: right;\">\n",
              "      <th></th>\n",
              "      <th>Close</th>\n",
              "      <th>Open</th>\n",
              "      <th>High</th>\n",
              "      <th>Low</th>\n",
              "      <th>Volume</th>\n",
              "      <th>headline_text</th>\n",
              "      <th>compound</th>\n",
              "      <th>negative</th>\n",
              "      <th>neutral</th>\n",
              "      <th>positive</th>\n",
              "    </tr>\n",
              "  </thead>\n",
              "  <tbody>\n",
              "    <tr>\n",
              "      <th>2001-01-02</th>\n",
              "      <td>0.265625</td>\n",
              "      <td>0.265625</td>\n",
              "      <td>0.272321</td>\n",
              "      <td>0.260045</td>\n",
              "      <td>452312000.0</td>\n",
              "      <td>Status quo will not be disturbed at Ayodhya; s...</td>\n",
              "      <td></td>\n",
              "      <td></td>\n",
              "      <td></td>\n",
              "      <td></td>\n",
              "    </tr>\n",
              "    <tr>\n",
              "      <th>2001-01-03</th>\n",
              "      <td>0.292411</td>\n",
              "      <td>0.258929</td>\n",
              "      <td>0.297991</td>\n",
              "      <td>0.257813</td>\n",
              "      <td>817073600.0</td>\n",
              "      <td>Powerless north India gropes in the dark,Think...</td>\n",
              "      <td></td>\n",
              "      <td></td>\n",
              "      <td></td>\n",
              "      <td></td>\n",
              "    </tr>\n",
              "    <tr>\n",
              "      <th>2001-01-04</th>\n",
              "      <td>0.304688</td>\n",
              "      <td>0.323940</td>\n",
              "      <td>0.330357</td>\n",
              "      <td>0.300223</td>\n",
              "      <td>739396000.0</td>\n",
              "      <td>The string that pulled Stephen Hawking to Indi...</td>\n",
              "      <td></td>\n",
              "      <td></td>\n",
              "      <td></td>\n",
              "      <td></td>\n",
              "    </tr>\n",
              "    <tr>\n",
              "      <th>2001-01-05</th>\n",
              "      <td>0.292411</td>\n",
              "      <td>0.302455</td>\n",
              "      <td>0.310268</td>\n",
              "      <td>0.286830</td>\n",
              "      <td>412356000.0</td>\n",
              "      <td>Light combat craft takes India into club class...</td>\n",
              "      <td></td>\n",
              "      <td></td>\n",
              "      <td></td>\n",
              "      <td></td>\n",
              "    </tr>\n",
              "    <tr>\n",
              "      <th>2001-01-08</th>\n",
              "      <td>0.295759</td>\n",
              "      <td>0.302455</td>\n",
              "      <td>0.303292</td>\n",
              "      <td>0.284598</td>\n",
              "      <td>373699200.0</td>\n",
              "      <td>Sangh Parivar; Babri panel up the ante,Frontru...</td>\n",
              "      <td></td>\n",
              "      <td></td>\n",
              "      <td></td>\n",
              "      <td></td>\n",
              "    </tr>\n",
              "  </tbody>\n",
              "</table>\n",
              "</div>"
            ],
            "text/plain": [
              "               Close      Open      High  ...  negative  neutral positive\n",
              "2001-01-02  0.265625  0.265625  0.272321  ...                            \n",
              "2001-01-03  0.292411  0.258929  0.297991  ...                            \n",
              "2001-01-04  0.304688  0.323940  0.330357  ...                            \n",
              "2001-01-05  0.292411  0.302455  0.310268  ...                            \n",
              "2001-01-08  0.295759  0.302455  0.303292  ...                            \n",
              "\n",
              "[5 rows x 10 columns]"
            ]
          },
          "metadata": {},
          "execution_count": 22
        }
      ]
    },
    {
      "cell_type": "code",
      "metadata": {
        "colab": {
          "base_uri": "https://localhost:8080/",
          "height": 204
        },
        "id": "oNu-llh6tA77",
        "outputId": "37c5c502-2bb8-4050-86d0-d332b86926b5"
      },
      "source": [
        "# importing requires libraries to analyze the sentiments\n",
        "from nltk.sentiment.vader import SentimentIntensityAnalyzer\n",
        "import unicodedata\n",
        "\n",
        "# instantiating the Sentiment Analyzer\n",
        "sid = SentimentIntensityAnalyzer()\n",
        "\n",
        "# calculating sentiment scores\n",
        "stock_data['compound'] = stock_data['headline_text'].apply(lambda x: sid.polarity_scores(x)['compound'])\n",
        "stock_data['negative'] = stock_data['headline_text'].apply(lambda x: sid.polarity_scores(x)['neg'])\n",
        "stock_data['neutral'] = stock_data['headline_text'].apply(lambda x: sid.polarity_scores(x)['neu'])\n",
        "stock_data['positive'] = stock_data['headline_text'].apply(lambda x: sid.polarity_scores(x)['pos'])\n",
        "\n",
        "# displaying the stock data\n",
        "stock_data.head()"
      ],
      "execution_count": null,
      "outputs": [
        {
          "output_type": "execute_result",
          "data": {
            "text/html": [
              "<div>\n",
              "<style scoped>\n",
              "    .dataframe tbody tr th:only-of-type {\n",
              "        vertical-align: middle;\n",
              "    }\n",
              "\n",
              "    .dataframe tbody tr th {\n",
              "        vertical-align: top;\n",
              "    }\n",
              "\n",
              "    .dataframe thead th {\n",
              "        text-align: right;\n",
              "    }\n",
              "</style>\n",
              "<table border=\"1\" class=\"dataframe\">\n",
              "  <thead>\n",
              "    <tr style=\"text-align: right;\">\n",
              "      <th></th>\n",
              "      <th>Close</th>\n",
              "      <th>Open</th>\n",
              "      <th>High</th>\n",
              "      <th>Low</th>\n",
              "      <th>Volume</th>\n",
              "      <th>headline_text</th>\n",
              "      <th>compound</th>\n",
              "      <th>negative</th>\n",
              "      <th>neutral</th>\n",
              "      <th>positive</th>\n",
              "    </tr>\n",
              "  </thead>\n",
              "  <tbody>\n",
              "    <tr>\n",
              "      <th>2001-01-02</th>\n",
              "      <td>0.265625</td>\n",
              "      <td>0.265625</td>\n",
              "      <td>0.272321</td>\n",
              "      <td>0.260045</td>\n",
              "      <td>452312000.0</td>\n",
              "      <td>Status quo will not be disturbed at Ayodhya; s...</td>\n",
              "      <td>-0.9621</td>\n",
              "      <td>0.119</td>\n",
              "      <td>0.817</td>\n",
              "      <td>0.064</td>\n",
              "    </tr>\n",
              "    <tr>\n",
              "      <th>2001-01-03</th>\n",
              "      <td>0.292411</td>\n",
              "      <td>0.258929</td>\n",
              "      <td>0.297991</td>\n",
              "      <td>0.257813</td>\n",
              "      <td>817073600.0</td>\n",
              "      <td>Powerless north India gropes in the dark,Think...</td>\n",
              "      <td>0.6322</td>\n",
              "      <td>0.084</td>\n",
              "      <td>0.817</td>\n",
              "      <td>0.098</td>\n",
              "    </tr>\n",
              "    <tr>\n",
              "      <th>2001-01-04</th>\n",
              "      <td>0.304688</td>\n",
              "      <td>0.323940</td>\n",
              "      <td>0.330357</td>\n",
              "      <td>0.300223</td>\n",
              "      <td>739396000.0</td>\n",
              "      <td>The string that pulled Stephen Hawking to Indi...</td>\n",
              "      <td>0.6648</td>\n",
              "      <td>0.077</td>\n",
              "      <td>0.843</td>\n",
              "      <td>0.080</td>\n",
              "    </tr>\n",
              "    <tr>\n",
              "      <th>2001-01-05</th>\n",
              "      <td>0.292411</td>\n",
              "      <td>0.302455</td>\n",
              "      <td>0.310268</td>\n",
              "      <td>0.286830</td>\n",
              "      <td>412356000.0</td>\n",
              "      <td>Light combat craft takes India into club class...</td>\n",
              "      <td>0.9032</td>\n",
              "      <td>0.105</td>\n",
              "      <td>0.746</td>\n",
              "      <td>0.149</td>\n",
              "    </tr>\n",
              "    <tr>\n",
              "      <th>2001-01-08</th>\n",
              "      <td>0.295759</td>\n",
              "      <td>0.302455</td>\n",
              "      <td>0.303292</td>\n",
              "      <td>0.284598</td>\n",
              "      <td>373699200.0</td>\n",
              "      <td>Sangh Parivar; Babri panel up the ante,Frontru...</td>\n",
              "      <td>-0.9638</td>\n",
              "      <td>0.119</td>\n",
              "      <td>0.855</td>\n",
              "      <td>0.026</td>\n",
              "    </tr>\n",
              "  </tbody>\n",
              "</table>\n",
              "</div>"
            ],
            "text/plain": [
              "               Close      Open      High  ...  negative  neutral positive\n",
              "2001-01-02  0.265625  0.265625  0.272321  ...     0.119    0.817    0.064\n",
              "2001-01-03  0.292411  0.258929  0.297991  ...     0.084    0.817    0.098\n",
              "2001-01-04  0.304688  0.323940  0.330357  ...     0.077    0.843    0.080\n",
              "2001-01-05  0.292411  0.302455  0.310268  ...     0.105    0.746    0.149\n",
              "2001-01-08  0.295759  0.302455  0.303292  ...     0.119    0.855    0.026\n",
              "\n",
              "[5 rows x 10 columns]"
            ]
          },
          "metadata": {},
          "execution_count": 26
        }
      ]
    },
    {
      "cell_type": "markdown",
      "metadata": {
        "id": "Km8ZFsymtA77"
      },
      "source": [
        "## 3 Finalising Stock Data and writing to Disk"
      ]
    },
    {
      "cell_type": "code",
      "metadata": {
        "colab": {
          "base_uri": "https://localhost:8080/",
          "height": 204
        },
        "id": "fYBd1HlntA77",
        "outputId": "792d3466-07d3-4cc3-860c-317f6aafa1c3"
      },
      "source": [
        "# dropping the 'headline_text' which is unwanted now\n",
        "stock_data.drop(['headline_text'], inplace=True, axis=1)\n",
        "\n",
        "# rearranging the columns of the whole stock_data\n",
        "stock_data = stock_data[['Close', 'compound', 'negative', 'neutral', 'positive', 'Open', 'High', 'Low', 'Volume']]\n",
        "\n",
        "# displaying the final stock_data\n",
        "stock_data.head()"
      ],
      "execution_count": null,
      "outputs": [
        {
          "output_type": "execute_result",
          "data": {
            "text/html": [
              "<div>\n",
              "<style scoped>\n",
              "    .dataframe tbody tr th:only-of-type {\n",
              "        vertical-align: middle;\n",
              "    }\n",
              "\n",
              "    .dataframe tbody tr th {\n",
              "        vertical-align: top;\n",
              "    }\n",
              "\n",
              "    .dataframe thead th {\n",
              "        text-align: right;\n",
              "    }\n",
              "</style>\n",
              "<table border=\"1\" class=\"dataframe\">\n",
              "  <thead>\n",
              "    <tr style=\"text-align: right;\">\n",
              "      <th></th>\n",
              "      <th>Close</th>\n",
              "      <th>compound</th>\n",
              "      <th>negative</th>\n",
              "      <th>neutral</th>\n",
              "      <th>positive</th>\n",
              "      <th>Open</th>\n",
              "      <th>High</th>\n",
              "      <th>Low</th>\n",
              "      <th>Volume</th>\n",
              "    </tr>\n",
              "  </thead>\n",
              "  <tbody>\n",
              "    <tr>\n",
              "      <th>2001-01-02</th>\n",
              "      <td>0.265625</td>\n",
              "      <td>-0.9621</td>\n",
              "      <td>0.119</td>\n",
              "      <td>0.817</td>\n",
              "      <td>0.064</td>\n",
              "      <td>0.265625</td>\n",
              "      <td>0.272321</td>\n",
              "      <td>0.260045</td>\n",
              "      <td>452312000.0</td>\n",
              "    </tr>\n",
              "    <tr>\n",
              "      <th>2001-01-03</th>\n",
              "      <td>0.292411</td>\n",
              "      <td>0.6322</td>\n",
              "      <td>0.084</td>\n",
              "      <td>0.817</td>\n",
              "      <td>0.098</td>\n",
              "      <td>0.258929</td>\n",
              "      <td>0.297991</td>\n",
              "      <td>0.257813</td>\n",
              "      <td>817073600.0</td>\n",
              "    </tr>\n",
              "    <tr>\n",
              "      <th>2001-01-04</th>\n",
              "      <td>0.304688</td>\n",
              "      <td>0.6648</td>\n",
              "      <td>0.077</td>\n",
              "      <td>0.843</td>\n",
              "      <td>0.080</td>\n",
              "      <td>0.323940</td>\n",
              "      <td>0.330357</td>\n",
              "      <td>0.300223</td>\n",
              "      <td>739396000.0</td>\n",
              "    </tr>\n",
              "    <tr>\n",
              "      <th>2001-01-05</th>\n",
              "      <td>0.292411</td>\n",
              "      <td>0.9032</td>\n",
              "      <td>0.105</td>\n",
              "      <td>0.746</td>\n",
              "      <td>0.149</td>\n",
              "      <td>0.302455</td>\n",
              "      <td>0.310268</td>\n",
              "      <td>0.286830</td>\n",
              "      <td>412356000.0</td>\n",
              "    </tr>\n",
              "    <tr>\n",
              "      <th>2001-01-08</th>\n",
              "      <td>0.295759</td>\n",
              "      <td>-0.9638</td>\n",
              "      <td>0.119</td>\n",
              "      <td>0.855</td>\n",
              "      <td>0.026</td>\n",
              "      <td>0.302455</td>\n",
              "      <td>0.303292</td>\n",
              "      <td>0.284598</td>\n",
              "      <td>373699200.0</td>\n",
              "    </tr>\n",
              "  </tbody>\n",
              "</table>\n",
              "</div>"
            ],
            "text/plain": [
              "               Close  compound  negative  ...      High       Low       Volume\n",
              "2001-01-02  0.265625   -0.9621     0.119  ...  0.272321  0.260045  452312000.0\n",
              "2001-01-03  0.292411    0.6322     0.084  ...  0.297991  0.257813  817073600.0\n",
              "2001-01-04  0.304688    0.6648     0.077  ...  0.330357  0.300223  739396000.0\n",
              "2001-01-05  0.292411    0.9032     0.105  ...  0.310268  0.286830  412356000.0\n",
              "2001-01-08  0.295759   -0.9638     0.119  ...  0.303292  0.284598  373699200.0\n",
              "\n",
              "[5 rows x 9 columns]"
            ]
          },
          "metadata": {},
          "execution_count": 27
        }
      ]
    },
    {
      "cell_type": "code",
      "metadata": {
        "id": "ZUI20cgOtA78"
      },
      "source": [
        "# writing the prepared stock_data to disk\n",
        "stock_data.to_csv('stock_data.csv')"
      ],
      "execution_count": null,
      "outputs": []
    },
    {
      "cell_type": "markdown",
      "metadata": {
        "id": "isSPgPc1tA78"
      },
      "source": [
        "## 4 Reading Stock Data "
      ]
    },
    {
      "cell_type": "code",
      "metadata": {
        "colab": {
          "base_uri": "https://localhost:8080/",
          "height": 235
        },
        "id": "BUzXM3lXtA78",
        "outputId": "ea458821-9fbd-4b11-fa57-55af4fe18031"
      },
      "source": [
        "# re-reading the stock_data into pandas dataframe\n",
        "stock_data = pd.read_csv('stock_data.csv', index_col = False)\n",
        "\n",
        "# renaming the column\n",
        "stock_data.rename(columns={'Unnamed: 0':'Date'}, inplace = True)\n",
        "\n",
        "# setting the column 'Date' as the index column\n",
        "stock_data.set_index('Date', inplace=True)\n",
        "\n",
        "# displaying the stock_data\n",
        "stock_data.head()"
      ],
      "execution_count": null,
      "outputs": [
        {
          "output_type": "execute_result",
          "data": {
            "text/html": [
              "<div>\n",
              "<style scoped>\n",
              "    .dataframe tbody tr th:only-of-type {\n",
              "        vertical-align: middle;\n",
              "    }\n",
              "\n",
              "    .dataframe tbody tr th {\n",
              "        vertical-align: top;\n",
              "    }\n",
              "\n",
              "    .dataframe thead th {\n",
              "        text-align: right;\n",
              "    }\n",
              "</style>\n",
              "<table border=\"1\" class=\"dataframe\">\n",
              "  <thead>\n",
              "    <tr style=\"text-align: right;\">\n",
              "      <th></th>\n",
              "      <th>Close</th>\n",
              "      <th>compound</th>\n",
              "      <th>negative</th>\n",
              "      <th>neutral</th>\n",
              "      <th>positive</th>\n",
              "      <th>Open</th>\n",
              "      <th>High</th>\n",
              "      <th>Low</th>\n",
              "      <th>Volume</th>\n",
              "    </tr>\n",
              "    <tr>\n",
              "      <th>Date</th>\n",
              "      <th></th>\n",
              "      <th></th>\n",
              "      <th></th>\n",
              "      <th></th>\n",
              "      <th></th>\n",
              "      <th></th>\n",
              "      <th></th>\n",
              "      <th></th>\n",
              "      <th></th>\n",
              "    </tr>\n",
              "  </thead>\n",
              "  <tbody>\n",
              "    <tr>\n",
              "      <th>2001-01-02</th>\n",
              "      <td>0.265625</td>\n",
              "      <td>-0.9621</td>\n",
              "      <td>0.119</td>\n",
              "      <td>0.817</td>\n",
              "      <td>0.064</td>\n",
              "      <td>0.265625</td>\n",
              "      <td>0.272321</td>\n",
              "      <td>0.260045</td>\n",
              "      <td>452312000.0</td>\n",
              "    </tr>\n",
              "    <tr>\n",
              "      <th>2001-01-03</th>\n",
              "      <td>0.292411</td>\n",
              "      <td>0.6322</td>\n",
              "      <td>0.084</td>\n",
              "      <td>0.817</td>\n",
              "      <td>0.098</td>\n",
              "      <td>0.258929</td>\n",
              "      <td>0.297991</td>\n",
              "      <td>0.257813</td>\n",
              "      <td>817073600.0</td>\n",
              "    </tr>\n",
              "    <tr>\n",
              "      <th>2001-01-04</th>\n",
              "      <td>0.304688</td>\n",
              "      <td>0.6648</td>\n",
              "      <td>0.077</td>\n",
              "      <td>0.843</td>\n",
              "      <td>0.080</td>\n",
              "      <td>0.323940</td>\n",
              "      <td>0.330357</td>\n",
              "      <td>0.300223</td>\n",
              "      <td>739396000.0</td>\n",
              "    </tr>\n",
              "    <tr>\n",
              "      <th>2001-01-05</th>\n",
              "      <td>0.292411</td>\n",
              "      <td>0.9032</td>\n",
              "      <td>0.105</td>\n",
              "      <td>0.746</td>\n",
              "      <td>0.149</td>\n",
              "      <td>0.302455</td>\n",
              "      <td>0.310268</td>\n",
              "      <td>0.286830</td>\n",
              "      <td>412356000.0</td>\n",
              "    </tr>\n",
              "    <tr>\n",
              "      <th>2001-01-08</th>\n",
              "      <td>0.295759</td>\n",
              "      <td>-0.9638</td>\n",
              "      <td>0.119</td>\n",
              "      <td>0.855</td>\n",
              "      <td>0.026</td>\n",
              "      <td>0.302455</td>\n",
              "      <td>0.303292</td>\n",
              "      <td>0.284598</td>\n",
              "      <td>373699200.0</td>\n",
              "    </tr>\n",
              "  </tbody>\n",
              "</table>\n",
              "</div>"
            ],
            "text/plain": [
              "               Close  compound  negative  ...      High       Low       Volume\n",
              "Date                                      ...                                 \n",
              "2001-01-02  0.265625   -0.9621     0.119  ...  0.272321  0.260045  452312000.0\n",
              "2001-01-03  0.292411    0.6322     0.084  ...  0.297991  0.257813  817073600.0\n",
              "2001-01-04  0.304688    0.6648     0.077  ...  0.330357  0.300223  739396000.0\n",
              "2001-01-05  0.292411    0.9032     0.105  ...  0.310268  0.286830  412356000.0\n",
              "2001-01-08  0.295759   -0.9638     0.119  ...  0.303292  0.284598  373699200.0\n",
              "\n",
              "[5 rows x 9 columns]"
            ]
          },
          "metadata": {},
          "execution_count": 29
        }
      ]
    },
    {
      "cell_type": "code",
      "metadata": {
        "colab": {
          "base_uri": "https://localhost:8080/"
        },
        "id": "7ShECU4CtA79",
        "outputId": "9af6e2a4-8d1c-4399-b7cf-a0d708d7b2a4"
      },
      "source": [
        "# checking for null values\n",
        "stock_data.isna().any()"
      ],
      "execution_count": null,
      "outputs": [
        {
          "output_type": "execute_result",
          "data": {
            "text/plain": [
              "Close       False\n",
              "compound    False\n",
              "negative    False\n",
              "neutral     False\n",
              "positive    False\n",
              "Open        False\n",
              "High        False\n",
              "Low         False\n",
              "Volume      False\n",
              "dtype: bool"
            ]
          },
          "metadata": {},
          "execution_count": 30
        }
      ]
    },
    {
      "cell_type": "markdown",
      "metadata": {
        "id": "eCntOjHgtA79"
      },
      "source": [
        "## 5 EDA of Stock Data"
      ]
    },
    {
      "cell_type": "code",
      "metadata": {
        "colab": {
          "base_uri": "https://localhost:8080/",
          "height": 637
        },
        "id": "BAe1anRhtA79",
        "outputId": "6d0d0265-44bb-43d8-b656-350e3807b57f"
      },
      "source": [
        "# setting figure size\n",
        "plt.figure(figsize=(16,10))\n",
        "\n",
        "# plotting close price\n",
        "stock_data['Close'].plot()\n",
        "\n",
        "# setting plot title, x and y labels\n",
        "plt.title(\"Close Price\")\n",
        "plt.xlabel('Date')\n",
        "plt.ylabel('Close Price ($)')"
      ],
      "execution_count": null,
      "outputs": [
        {
          "output_type": "execute_result",
          "data": {
            "text/plain": [
              "Text(0, 0.5, 'Close Price ($)')"
            ]
          },
          "metadata": {},
          "execution_count": 40
        },
        {
          "output_type": "display_data",
          "data": {
            "image/png": "[encoded data removed]",
            "text/plain": [
              "<Figure size 1152x720 with 1 Axes>"
            ]
          },
          "metadata": {
            "needs_background": "light"
          }
        }
      ]
    },
    {
      "cell_type": "code",
      "metadata": {
        "colab": {
          "base_uri": "https://localhost:8080/",
          "height": 701
        },
        "id": "fqySScHqtA79",
        "outputId": "496ac668-33ec-4b36-fba4-98ec4b13fb8e"
      },
      "source": [
        "# calculating 7 day rolling mean\n",
        "stock_data.rolling(7).mean().head(20)"
      ],
      "execution_count": null,
      "outputs": [
        {
          "output_type": "execute_result",
          "data": {
            "text/html": [
              "<div>\n",
              "<style scoped>\n",
              "    .dataframe tbody tr th:only-of-type {\n",
              "        vertical-align: middle;\n",
              "    }\n",
              "\n",
              "    .dataframe tbody tr th {\n",
              "        vertical-align: top;\n",
              "    }\n",
              "\n",
              "    .dataframe thead th {\n",
              "        text-align: right;\n",
              "    }\n",
              "</style>\n",
              "<table border=\"1\" class=\"dataframe\">\n",
              "  <thead>\n",
              "    <tr style=\"text-align: right;\">\n",
              "      <th></th>\n",
              "      <th>Close</th>\n",
              "      <th>compound</th>\n",
              "      <th>negative</th>\n",
              "      <th>neutral</th>\n",
              "      <th>positive</th>\n",
              "      <th>Open</th>\n",
              "      <th>High</th>\n",
              "      <th>Low</th>\n",
              "      <th>Volume</th>\n",
              "    </tr>\n",
              "    <tr>\n",
              "      <th>Date</th>\n",
              "      <th></th>\n",
              "      <th></th>\n",
              "      <th></th>\n",
              "      <th></th>\n",
              "      <th></th>\n",
              "      <th></th>\n",
              "      <th></th>\n",
              "      <th></th>\n",
              "      <th></th>\n",
              "    </tr>\n",
              "  </thead>\n",
              "  <tbody>\n",
              "    <tr>\n",
              "      <th>2001-01-02</th>\n",
              "      <td>NaN</td>\n",
              "      <td>NaN</td>\n",
              "      <td>NaN</td>\n",
              "      <td>NaN</td>\n",
              "      <td>NaN</td>\n",
              "      <td>NaN</td>\n",
              "      <td>NaN</td>\n",
              "      <td>NaN</td>\n",
              "      <td>NaN</td>\n",
              "    </tr>\n",
              "    <tr>\n",
              "      <th>2001-01-03</th>\n",
              "      <td>NaN</td>\n",
              "      <td>NaN</td>\n",
              "      <td>NaN</td>\n",
              "      <td>NaN</td>\n",
              "      <td>NaN</td>\n",
              "      <td>NaN</td>\n",
              "      <td>NaN</td>\n",
              "      <td>NaN</td>\n",
              "      <td>NaN</td>\n",
              "    </tr>\n",
              "    <tr>\n",
              "      <th>2001-01-04</th>\n",
              "      <td>NaN</td>\n",
              "      <td>NaN</td>\n",
              "      <td>NaN</td>\n",
              "      <td>NaN</td>\n",
              "      <td>NaN</td>\n",
              "      <td>NaN</td>\n",
              "      <td>NaN</td>\n",
              "      <td>NaN</td>\n",
              "      <td>NaN</td>\n",
              "    </tr>\n",
              "    <tr>\n",
              "      <th>2001-01-05</th>\n",
              "      <td>NaN</td>\n",
              "      <td>NaN</td>\n",
              "      <td>NaN</td>\n",
              "      <td>NaN</td>\n",
              "      <td>NaN</td>\n",
              "      <td>NaN</td>\n",
              "      <td>NaN</td>\n",
              "      <td>NaN</td>\n",
              "      <td>NaN</td>\n",
              "    </tr>\n",
              "    <tr>\n",
              "      <th>2001-01-08</th>\n",
              "      <td>NaN</td>\n",
              "      <td>NaN</td>\n",
              "      <td>NaN</td>\n",
              "      <td>NaN</td>\n",
              "      <td>NaN</td>\n",
              "      <td>NaN</td>\n",
              "      <td>NaN</td>\n",
              "      <td>NaN</td>\n",
              "      <td>NaN</td>\n",
              "    </tr>\n",
              "    <tr>\n",
              "      <th>2001-01-09</th>\n",
              "      <td>NaN</td>\n",
              "      <td>NaN</td>\n",
              "      <td>NaN</td>\n",
              "      <td>NaN</td>\n",
              "      <td>NaN</td>\n",
              "      <td>NaN</td>\n",
              "      <td>NaN</td>\n",
              "      <td>NaN</td>\n",
              "      <td>NaN</td>\n",
              "    </tr>\n",
              "    <tr>\n",
              "      <th>2001-01-10</th>\n",
              "      <td>0.293368</td>\n",
              "      <td>-0.179071</td>\n",
              "      <td>0.121714</td>\n",
              "      <td>0.810429</td>\n",
              "      <td>0.067571</td>\n",
              "      <td>0.293088</td>\n",
              "      <td>0.304687</td>\n",
              "      <td>0.281728</td>\n",
              "      <td>566364000.0</td>\n",
              "    </tr>\n",
              "    <tr>\n",
              "      <th>2001-01-23</th>\n",
              "      <td>0.307717</td>\n",
              "      <td>0.091157</td>\n",
              "      <td>0.109857</td>\n",
              "      <td>0.818571</td>\n",
              "      <td>0.071286</td>\n",
              "      <td>0.304408</td>\n",
              "      <td>0.319196</td>\n",
              "      <td>0.293208</td>\n",
              "      <td>627395200.0</td>\n",
              "    </tr>\n",
              "    <tr>\n",
              "      <th>2001-01-24</th>\n",
              "      <td>0.318240</td>\n",
              "      <td>-0.128286</td>\n",
              "      <td>0.111571</td>\n",
              "      <td>0.825286</td>\n",
              "      <td>0.063000</td>\n",
              "      <td>0.320033</td>\n",
              "      <td>0.329400</td>\n",
              "      <td>0.306282</td>\n",
              "      <td>613112000.0</td>\n",
              "    </tr>\n",
              "    <tr>\n",
              "      <th>2001-01-25</th>\n",
              "      <td>0.325574</td>\n",
              "      <td>-0.364029</td>\n",
              "      <td>0.120143</td>\n",
              "      <td>0.818000</td>\n",
              "      <td>0.061714</td>\n",
              "      <td>0.326212</td>\n",
              "      <td>0.334662</td>\n",
              "      <td>0.313775</td>\n",
              "      <td>577442400.0</td>\n",
              "    </tr>\n",
              "    <tr>\n",
              "      <th>2001-01-26</th>\n",
              "      <td>0.333705</td>\n",
              "      <td>-0.365543</td>\n",
              "      <td>0.114429</td>\n",
              "      <td>0.828429</td>\n",
              "      <td>0.057000</td>\n",
              "      <td>0.332749</td>\n",
              "      <td>0.340880</td>\n",
              "      <td>0.321429</td>\n",
              "      <td>587508800.0</td>\n",
              "    </tr>\n",
              "    <tr>\n",
              "      <th>2001-01-29</th>\n",
              "      <td>0.346779</td>\n",
              "      <td>-0.089329</td>\n",
              "      <td>0.103286</td>\n",
              "      <td>0.824714</td>\n",
              "      <td>0.071714</td>\n",
              "      <td>0.339445</td>\n",
              "      <td>0.353037</td>\n",
              "      <td>0.330676</td>\n",
              "      <td>656341600.0</td>\n",
              "    </tr>\n",
              "    <tr>\n",
              "      <th>2001-01-30</th>\n",
              "      <td>0.358418</td>\n",
              "      <td>-0.075343</td>\n",
              "      <td>0.102714</td>\n",
              "      <td>0.822714</td>\n",
              "      <td>0.074429</td>\n",
              "      <td>0.351563</td>\n",
              "      <td>0.364158</td>\n",
              "      <td>0.341677</td>\n",
              "      <td>671126400.0</td>\n",
              "    </tr>\n",
              "    <tr>\n",
              "      <th>2001-01-31</th>\n",
              "      <td>0.371333</td>\n",
              "      <td>-0.073514</td>\n",
              "      <td>0.084000</td>\n",
              "      <td>0.832714</td>\n",
              "      <td>0.083143</td>\n",
              "      <td>0.363839</td>\n",
              "      <td>0.378189</td>\n",
              "      <td>0.355389</td>\n",
              "      <td>692544000.0</td>\n",
              "    </tr>\n",
              "    <tr>\n",
              "      <th>2001-02-01</th>\n",
              "      <td>0.372927</td>\n",
              "      <td>-0.324900</td>\n",
              "      <td>0.093857</td>\n",
              "      <td>0.826286</td>\n",
              "      <td>0.079714</td>\n",
              "      <td>0.367347</td>\n",
              "      <td>0.379624</td>\n",
              "      <td>0.359056</td>\n",
              "      <td>619710400.0</td>\n",
              "    </tr>\n",
              "    <tr>\n",
              "      <th>2001-02-02</th>\n",
              "      <td>0.373246</td>\n",
              "      <td>-0.057300</td>\n",
              "      <td>0.089857</td>\n",
              "      <td>0.804857</td>\n",
              "      <td>0.105143</td>\n",
              "      <td>0.368623</td>\n",
              "      <td>0.382813</td>\n",
              "      <td>0.361448</td>\n",
              "      <td>578317600.0</td>\n",
              "    </tr>\n",
              "    <tr>\n",
              "      <th>2001-02-05</th>\n",
              "      <td>0.373884</td>\n",
              "      <td>0.158714</td>\n",
              "      <td>0.087143</td>\n",
              "      <td>0.797429</td>\n",
              "      <td>0.115286</td>\n",
              "      <td>0.368463</td>\n",
              "      <td>0.382813</td>\n",
              "      <td>0.361448</td>\n",
              "      <td>549232800.0</td>\n",
              "    </tr>\n",
              "    <tr>\n",
              "      <th>2001-02-06</th>\n",
              "      <td>0.377870</td>\n",
              "      <td>0.140486</td>\n",
              "      <td>0.087000</td>\n",
              "      <td>0.799286</td>\n",
              "      <td>0.113571</td>\n",
              "      <td>0.370137</td>\n",
              "      <td>0.386838</td>\n",
              "      <td>0.363839</td>\n",
              "      <td>546360000.0</td>\n",
              "    </tr>\n",
              "    <tr>\n",
              "      <th>2001-02-07</th>\n",
              "      <td>0.375478</td>\n",
              "      <td>0.121786</td>\n",
              "      <td>0.089714</td>\n",
              "      <td>0.797000</td>\n",
              "      <td>0.113286</td>\n",
              "      <td>0.372927</td>\n",
              "      <td>0.384606</td>\n",
              "      <td>0.364477</td>\n",
              "      <td>480411200.0</td>\n",
              "    </tr>\n",
              "    <tr>\n",
              "      <th>2001-02-08</th>\n",
              "      <td>0.372927</td>\n",
              "      <td>0.371843</td>\n",
              "      <td>0.079571</td>\n",
              "      <td>0.799571</td>\n",
              "      <td>0.120857</td>\n",
              "      <td>0.370376</td>\n",
              "      <td>0.382215</td>\n",
              "      <td>0.362723</td>\n",
              "      <td>467797600.0</td>\n",
              "    </tr>\n",
              "  </tbody>\n",
              "</table>\n",
              "</div>"
            ],
            "text/plain": [
              "               Close  compound  negative  ...      High       Low       Volume\n",
              "Date                                      ...                                 \n",
              "2001-01-02       NaN       NaN       NaN  ...       NaN       NaN          NaN\n",
              "2001-01-03       NaN       NaN       NaN  ...       NaN       NaN          NaN\n",
              "2001-01-04       NaN       NaN       NaN  ...       NaN       NaN          NaN\n",
              "2001-01-05       NaN       NaN       NaN  ...       NaN       NaN          NaN\n",
              "2001-01-08       NaN       NaN       NaN  ...       NaN       NaN          NaN\n",
              "2001-01-09       NaN       NaN       NaN  ...       NaN       NaN          NaN\n",
              "2001-01-10  0.293368 -0.179071  0.121714  ...  0.304687  0.281728  566364000.0\n",
              "2001-01-23  0.307717  0.091157  0.109857  ...  0.319196  0.293208  627395200.0\n",
              "2001-01-24  0.318240 -0.128286  0.111571  ...  0.329400  0.306282  613112000.0\n",
              "2001-01-25  0.325574 -0.364029  0.120143  ...  0.334662  0.313775  577442400.0\n",
              "2001-01-26  0.333705 -0.365543  0.114429  ...  0.340880  0.321429  587508800.0\n",
              "2001-01-29  0.346779 -0.089329  0.103286  ...  0.353037  0.330676  656341600.0\n",
              "2001-01-30  0.358418 -0.075343  0.102714  ...  0.364158  0.341677  671126400.0\n",
              "2001-01-31  0.371333 -0.073514  0.084000  ...  0.378189  0.355389  692544000.0\n",
              "2001-02-01  0.372927 -0.324900  0.093857  ...  0.379624  0.359056  619710400.0\n",
              "2001-02-02  0.373246 -0.057300  0.089857  ...  0.382813  0.361448  578317600.0\n",
              "2001-02-05  0.373884  0.158714  0.087143  ...  0.382813  0.361448  549232800.0\n",
              "2001-02-06  0.377870  0.140486  0.087000  ...  0.386838  0.363839  546360000.0\n",
              "2001-02-07  0.375478  0.121786  0.089714  ...  0.384606  0.364477  480411200.0\n",
              "2001-02-08  0.372927  0.371843  0.079571  ...  0.382215  0.362723  467797600.0\n",
              "\n",
              "[20 rows x 9 columns]"
            ]
          },
          "metadata": {},
          "execution_count": 41
        }
      ]
    },
    {
      "cell_type": "code",
      "metadata": {
        "colab": {
          "base_uri": "https://localhost:8080/",
          "height": 622
        },
        "id": "VvBd6VMJtA7-",
        "outputId": "e9033edb-23e3-46ad-e8e6-6b8b6cbcfb27"
      },
      "source": [
        "# setting figure size\n",
        "plt.figure(figsize=(16,10))\n",
        "\n",
        "# plotting the close price and a 30-day rolling mean of close price\n",
        "stock_data['Close'].plot()\n",
        "stock_data.rolling(window=30).mean()['Close'].plot()"
      ],
      "execution_count": null,
      "outputs": [
        {
          "output_type": "execute_result",
          "data": {
            "text/plain": [
              "<matplotlib.axes._subplots.AxesSubplot at 0x7f9278d8ec10>"
            ]
          },
          "metadata": {},
          "execution_count": 42
        },
        {
          "output_type": "display_data",
          "data": {
            "image/png": "[encoded data removed]",
            "text/plain": [
              "<Figure size 1152x720 with 1 Axes>"
            ]
          },
          "metadata": {
            "needs_background": "light"
          }
        }
      ]
    },
    {
      "cell_type": "code",
      "metadata": {
        "colab": {
          "base_uri": "https://localhost:8080/",
          "height": 451
        },
        "id": "bFogZ5N4tA7-",
        "outputId": "c7d22370-a73c-4512-ac33-7e232e1c819c"
      },
      "source": [
        "# displaying stock_data\n",
        "stock_data"
      ],
      "execution_count": null,
      "outputs": [
        {
          "output_type": "execute_result",
          "data": {
            "text/html": [
              "<div>\n",
              "<style scoped>\n",
              "    .dataframe tbody tr th:only-of-type {\n",
              "        vertical-align: middle;\n",
              "    }\n",
              "\n",
              "    .dataframe tbody tr th {\n",
              "        vertical-align: top;\n",
              "    }\n",
              "\n",
              "    .dataframe thead th {\n",
              "        text-align: right;\n",
              "    }\n",
              "</style>\n",
              "<table border=\"1\" class=\"dataframe\">\n",
              "  <thead>\n",
              "    <tr style=\"text-align: right;\">\n",
              "      <th></th>\n",
              "      <th>Close</th>\n",
              "      <th>compound</th>\n",
              "      <th>negative</th>\n",
              "      <th>neutral</th>\n",
              "      <th>positive</th>\n",
              "      <th>Open</th>\n",
              "      <th>High</th>\n",
              "      <th>Low</th>\n",
              "      <th>Volume</th>\n",
              "    </tr>\n",
              "    <tr>\n",
              "      <th>Date</th>\n",
              "      <th></th>\n",
              "      <th></th>\n",
              "      <th></th>\n",
              "      <th></th>\n",
              "      <th></th>\n",
              "      <th></th>\n",
              "      <th></th>\n",
              "      <th></th>\n",
              "      <th></th>\n",
              "    </tr>\n",
              "  </thead>\n",
              "  <tbody>\n",
              "    <tr>\n",
              "      <th>2001-01-02</th>\n",
              "      <td>0.265625</td>\n",
              "      <td>-0.9621</td>\n",
              "      <td>0.119</td>\n",
              "      <td>0.817</td>\n",
              "      <td>0.064</td>\n",
              "      <td>0.265625</td>\n",
              "      <td>0.272321</td>\n",
              "      <td>0.260045</td>\n",
              "      <td>452312000.0</td>\n",
              "    </tr>\n",
              "    <tr>\n",
              "      <th>2001-01-03</th>\n",
              "      <td>0.292411</td>\n",
              "      <td>0.6322</td>\n",
              "      <td>0.084</td>\n",
              "      <td>0.817</td>\n",
              "      <td>0.098</td>\n",
              "      <td>0.258929</td>\n",
              "      <td>0.297991</td>\n",
              "      <td>0.257813</td>\n",
              "      <td>817073600.0</td>\n",
              "    </tr>\n",
              "    <tr>\n",
              "      <th>2001-01-04</th>\n",
              "      <td>0.304688</td>\n",
              "      <td>0.6648</td>\n",
              "      <td>0.077</td>\n",
              "      <td>0.843</td>\n",
              "      <td>0.080</td>\n",
              "      <td>0.323940</td>\n",
              "      <td>0.330357</td>\n",
              "      <td>0.300223</td>\n",
              "      <td>739396000.0</td>\n",
              "    </tr>\n",
              "    <tr>\n",
              "      <th>2001-01-05</th>\n",
              "      <td>0.292411</td>\n",
              "      <td>0.9032</td>\n",
              "      <td>0.105</td>\n",
              "      <td>0.746</td>\n",
              "      <td>0.149</td>\n",
              "      <td>0.302455</td>\n",
              "      <td>0.310268</td>\n",
              "      <td>0.286830</td>\n",
              "      <td>412356000.0</td>\n",
              "    </tr>\n",
              "    <tr>\n",
              "      <th>2001-01-08</th>\n",
              "      <td>0.295759</td>\n",
              "      <td>-0.9638</td>\n",
              "      <td>0.119</td>\n",
              "      <td>0.855</td>\n",
              "      <td>0.026</td>\n",
              "      <td>0.302455</td>\n",
              "      <td>0.303292</td>\n",
              "      <td>0.284598</td>\n",
              "      <td>373699200.0</td>\n",
              "    </tr>\n",
              "    <tr>\n",
              "      <th>...</th>\n",
              "      <td>...</td>\n",
              "      <td>...</td>\n",
              "      <td>...</td>\n",
              "      <td>...</td>\n",
              "      <td>...</td>\n",
              "      <td>...</td>\n",
              "      <td>...</td>\n",
              "      <td>...</td>\n",
              "      <td>...</td>\n",
              "    </tr>\n",
              "    <tr>\n",
              "      <th>2020-06-24</th>\n",
              "      <td>90.014999</td>\n",
              "      <td>-0.9997</td>\n",
              "      <td>0.115</td>\n",
              "      <td>0.811</td>\n",
              "      <td>0.074</td>\n",
              "      <td>91.250000</td>\n",
              "      <td>92.197502</td>\n",
              "      <td>89.629997</td>\n",
              "      <td>192623200.0</td>\n",
              "    </tr>\n",
              "    <tr>\n",
              "      <th>2020-06-25</th>\n",
              "      <td>91.209999</td>\n",
              "      <td>-0.9999</td>\n",
              "      <td>0.126</td>\n",
              "      <td>0.821</td>\n",
              "      <td>0.053</td>\n",
              "      <td>90.175003</td>\n",
              "      <td>91.250000</td>\n",
              "      <td>89.392502</td>\n",
              "      <td>137522400.0</td>\n",
              "    </tr>\n",
              "    <tr>\n",
              "      <th>2020-06-26</th>\n",
              "      <td>88.407501</td>\n",
              "      <td>-0.9999</td>\n",
              "      <td>0.149</td>\n",
              "      <td>0.766</td>\n",
              "      <td>0.085</td>\n",
              "      <td>91.102501</td>\n",
              "      <td>91.330002</td>\n",
              "      <td>88.254997</td>\n",
              "      <td>205256800.0</td>\n",
              "    </tr>\n",
              "    <tr>\n",
              "      <th>2020-06-29</th>\n",
              "      <td>90.445000</td>\n",
              "      <td>-0.9997</td>\n",
              "      <td>0.122</td>\n",
              "      <td>0.804</td>\n",
              "      <td>0.075</td>\n",
              "      <td>88.312500</td>\n",
              "      <td>90.542503</td>\n",
              "      <td>87.820000</td>\n",
              "      <td>130646000.0</td>\n",
              "    </tr>\n",
              "    <tr>\n",
              "      <th>2020-06-30</th>\n",
              "      <td>91.199997</td>\n",
              "      <td>-0.9998</td>\n",
              "      <td>0.118</td>\n",
              "      <td>0.820</td>\n",
              "      <td>0.062</td>\n",
              "      <td>90.019997</td>\n",
              "      <td>91.495003</td>\n",
              "      <td>90.000000</td>\n",
              "      <td>140223200.0</td>\n",
              "    </tr>\n",
              "  </tbody>\n",
              "</table>\n",
              "<p>4876 rows × 9 columns</p>\n",
              "</div>"
            ],
            "text/plain": [
              "                Close  compound  negative  ...       High        Low       Volume\n",
              "Date                                       ...                                   \n",
              "2001-01-02   0.265625   -0.9621     0.119  ...   0.272321   0.260045  452312000.0\n",
              "2001-01-03   0.292411    0.6322     0.084  ...   0.297991   0.257813  817073600.0\n",
              "2001-01-04   0.304688    0.6648     0.077  ...   0.330357   0.300223  739396000.0\n",
              "2001-01-05   0.292411    0.9032     0.105  ...   0.310268   0.286830  412356000.0\n",
              "2001-01-08   0.295759   -0.9638     0.119  ...   0.303292   0.284598  373699200.0\n",
              "...               ...       ...       ...  ...        ...        ...          ...\n",
              "2020-06-24  90.014999   -0.9997     0.115  ...  92.197502  89.629997  192623200.0\n",
              "2020-06-25  91.209999   -0.9999     0.126  ...  91.250000  89.392502  137522400.0\n",
              "2020-06-26  88.407501   -0.9999     0.149  ...  91.330002  88.254997  205256800.0\n",
              "2020-06-29  90.445000   -0.9997     0.122  ...  90.542503  87.820000  130646000.0\n",
              "2020-06-30  91.199997   -0.9998     0.118  ...  91.495003  90.000000  140223200.0\n",
              "\n",
              "[4876 rows x 9 columns]"
            ]
          },
          "metadata": {},
          "execution_count": 43
        }
      ]
    },
    {
      "cell_type": "markdown",
      "metadata": {
        "id": "qVYc6nEAtA7-"
      },
      "source": [
        "## 6 Data Preparation for Modelling"
      ]
    },
    {
      "cell_type": "code",
      "metadata": {
        "colab": {
          "base_uri": "https://localhost:8080/"
        },
        "id": "wBxK7YrPtA7-",
        "outputId": "8ebf53e1-27c6-481c-cb6b-b4c1e9b8a1c4"
      },
      "source": [
        "# calculating data_to_use\n",
        "percentage_of_data = 1.0\n",
        "data_to_use = int(percentage_of_data*(len(stock_data)-1))\n",
        "\n",
        "# using 80% of data for training\n",
        "train_end = int(data_to_use*0.8)\n",
        "total_data = len(stock_data)\n",
        "start = total_data - data_to_use\n",
        "\n",
        "# printing number of records in the training and test datasets\n",
        "print(\"Number of records in Training Data:\", train_end)\n",
        "print(\"Number of records in Test Data:\", total_data - train_end)"
      ],
      "execution_count": null,
      "outputs": [
        {
          "output_type": "stream",
          "name": "stdout",
          "text": [
            "Number of records in Training Data: 3900\n",
            "Number of records in Test Data: 976\n"
          ]
        }
      ]
    },
    {
      "cell_type": "code",
      "metadata": {
        "scrolled": true,
        "colab": {
          "base_uri": "https://localhost:8080/"
        },
        "id": "TOfi66smtA7-",
        "outputId": "73f75f79-4c85-4887-c0c0-2deeb7bcd60c"
      },
      "source": [
        "# predicting one step ahead\n",
        "steps_to_predict = 1\n",
        "\n",
        "# capturing data to be used for each column\n",
        "close_price = stock_data.iloc[start:total_data,0] #close\n",
        "compound = stock_data.iloc[start:total_data,1] #compound\n",
        "negative = stock_data.iloc[start:total_data,2] #neg\n",
        "neutral = stock_data.iloc[start:total_data,3] #neu\n",
        "positive = stock_data.iloc[start:total_data,4] #pos\n",
        "open_price = stock_data.iloc[start:total_data,5] #open\n",
        "high = stock_data.iloc[start:total_data,6] #high\n",
        "low = stock_data.iloc[start:total_data,7] #low\n",
        "volume = stock_data.iloc[start:total_data,8] #volume\n",
        "\n",
        "# printing close price\n",
        "print(\"Close Price:\")\n",
        "close_price"
      ],
      "execution_count": null,
      "outputs": [
        {
          "output_type": "stream",
          "name": "stdout",
          "text": [
            "Close Price:\n"
          ]
        },
        {
          "output_type": "execute_result",
          "data": {
            "text/plain": [
              "Date\n",
              "2001-01-03     0.292411\n",
              "2001-01-04     0.304688\n",
              "2001-01-05     0.292411\n",
              "2001-01-08     0.295759\n",
              "2001-01-09     0.306920\n",
              "                ...    \n",
              "2020-06-24    90.014999\n",
              "2020-06-25    91.209999\n",
              "2020-06-26    88.407501\n",
              "2020-06-29    90.445000\n",
              "2020-06-30    91.199997\n",
              "Name: Close, Length: 4875, dtype: float64"
            ]
          },
          "metadata": {},
          "execution_count": 45
        }
      ]
    },
    {
      "cell_type": "code",
      "metadata": {
        "colab": {
          "base_uri": "https://localhost:8080/",
          "height": 390
        },
        "id": "n7NH-6aTtA7-",
        "outputId": "a42eae4e-79c0-41c5-b2bf-a18d94dd2923"
      },
      "source": [
        "# shifting next day close\n",
        "close_price_shifted = close_price.shift(-1) \n",
        "\n",
        "# shifting next day compound\n",
        "compound_shifted = compound.shift(-1) \n",
        "\n",
        "# concatenating the captured training data into a dataframe\n",
        "data = pd.concat([close_price, close_price_shifted, compound, compound_shifted, volume, open_price, high, low], axis=1)\n",
        "\n",
        "# setting column names of the revised stock data\n",
        "data.columns = ['close_price', 'close_price_shifted', 'compound', 'compound_shifted','volume', 'open_price', 'high', 'low']\n",
        "\n",
        "# dropping nulls\n",
        "data = data.dropna()    \n",
        "data.head(10)"
      ],
      "execution_count": null,
      "outputs": [
        {
          "output_type": "execute_result",
          "data": {
            "text/html": [
              "<div>\n",
              "<style scoped>\n",
              "    .dataframe tbody tr th:only-of-type {\n",
              "        vertical-align: middle;\n",
              "    }\n",
              "\n",
              "    .dataframe tbody tr th {\n",
              "        vertical-align: top;\n",
              "    }\n",
              "\n",
              "    .dataframe thead th {\n",
              "        text-align: right;\n",
              "    }\n",
              "</style>\n",
              "<table border=\"1\" class=\"dataframe\">\n",
              "  <thead>\n",
              "    <tr style=\"text-align: right;\">\n",
              "      <th></th>\n",
              "      <th>close_price</th>\n",
              "      <th>close_price_shifted</th>\n",
              "      <th>compound</th>\n",
              "      <th>compound_shifted</th>\n",
              "      <th>volume</th>\n",
              "      <th>open_price</th>\n",
              "      <th>high</th>\n",
              "      <th>low</th>\n",
              "    </tr>\n",
              "    <tr>\n",
              "      <th>Date</th>\n",
              "      <th></th>\n",
              "      <th></th>\n",
              "      <th></th>\n",
              "      <th></th>\n",
              "      <th></th>\n",
              "      <th></th>\n",
              "      <th></th>\n",
              "      <th></th>\n",
              "    </tr>\n",
              "  </thead>\n",
              "  <tbody>\n",
              "    <tr>\n",
              "      <th>2001-01-03</th>\n",
              "      <td>0.292411</td>\n",
              "      <td>0.304688</td>\n",
              "      <td>0.6322</td>\n",
              "      <td>0.6648</td>\n",
              "      <td>817073600.0</td>\n",
              "      <td>0.258929</td>\n",
              "      <td>0.297991</td>\n",
              "      <td>0.257813</td>\n",
              "    </tr>\n",
              "    <tr>\n",
              "      <th>2001-01-04</th>\n",
              "      <td>0.304688</td>\n",
              "      <td>0.292411</td>\n",
              "      <td>0.6648</td>\n",
              "      <td>0.9032</td>\n",
              "      <td>739396000.0</td>\n",
              "      <td>0.323940</td>\n",
              "      <td>0.330357</td>\n",
              "      <td>0.300223</td>\n",
              "    </tr>\n",
              "    <tr>\n",
              "      <th>2001-01-05</th>\n",
              "      <td>0.292411</td>\n",
              "      <td>0.295759</td>\n",
              "      <td>0.9032</td>\n",
              "      <td>-0.9638</td>\n",
              "      <td>412356000.0</td>\n",
              "      <td>0.302455</td>\n",
              "      <td>0.310268</td>\n",
              "      <td>0.286830</td>\n",
              "    </tr>\n",
              "    <tr>\n",
              "      <th>2001-01-08</th>\n",
              "      <td>0.295759</td>\n",
              "      <td>0.306920</td>\n",
              "      <td>-0.9638</td>\n",
              "      <td>-0.9559</td>\n",
              "      <td>373699200.0</td>\n",
              "      <td>0.302455</td>\n",
              "      <td>0.303292</td>\n",
              "      <td>0.284598</td>\n",
              "    </tr>\n",
              "    <tr>\n",
              "      <th>2001-01-09</th>\n",
              "      <td>0.306920</td>\n",
              "      <td>0.295759</td>\n",
              "      <td>-0.9559</td>\n",
              "      <td>-0.5719</td>\n",
              "      <td>588929600.0</td>\n",
              "      <td>0.300223</td>\n",
              "      <td>0.315011</td>\n",
              "      <td>0.295759</td>\n",
              "    </tr>\n",
              "    <tr>\n",
              "      <th>2001-01-10</th>\n",
              "      <td>0.295759</td>\n",
              "      <td>0.366071</td>\n",
              "      <td>-0.5719</td>\n",
              "      <td>0.9295</td>\n",
              "      <td>580781600.0</td>\n",
              "      <td>0.297991</td>\n",
              "      <td>0.303571</td>\n",
              "      <td>0.286830</td>\n",
              "    </tr>\n",
              "    <tr>\n",
              "      <th>2001-01-23</th>\n",
              "      <td>0.366071</td>\n",
              "      <td>0.366071</td>\n",
              "      <td>0.9295</td>\n",
              "      <td>-0.9039</td>\n",
              "      <td>879530400.0</td>\n",
              "      <td>0.344866</td>\n",
              "      <td>0.373884</td>\n",
              "      <td>0.340402</td>\n",
              "    </tr>\n",
              "    <tr>\n",
              "      <th>2001-01-24</th>\n",
              "      <td>0.366071</td>\n",
              "      <td>0.356027</td>\n",
              "      <td>-0.9039</td>\n",
              "      <td>-0.9854</td>\n",
              "      <td>717091200.0</td>\n",
              "      <td>0.368304</td>\n",
              "      <td>0.369420</td>\n",
              "      <td>0.349330</td>\n",
              "    </tr>\n",
              "    <tr>\n",
              "      <th>2001-01-25</th>\n",
              "      <td>0.356027</td>\n",
              "      <td>0.349330</td>\n",
              "      <td>-0.9854</td>\n",
              "      <td>0.8926</td>\n",
              "      <td>489708800.0</td>\n",
              "      <td>0.367188</td>\n",
              "      <td>0.367188</td>\n",
              "      <td>0.352679</td>\n",
              "    </tr>\n",
              "    <tr>\n",
              "      <th>2001-01-26</th>\n",
              "      <td>0.349330</td>\n",
              "      <td>0.387277</td>\n",
              "      <td>0.8926</td>\n",
              "      <td>0.9697</td>\n",
              "      <td>482820800.0</td>\n",
              "      <td>0.348214</td>\n",
              "      <td>0.353795</td>\n",
              "      <td>0.340402</td>\n",
              "    </tr>\n",
              "  </tbody>\n",
              "</table>\n",
              "</div>"
            ],
            "text/plain": [
              "            close_price  close_price_shifted  ...      high       low\n",
              "Date                                          ...                    \n",
              "2001-01-03     0.292411             0.304688  ...  0.297991  0.257813\n",
              "2001-01-04     0.304688             0.292411  ...  0.330357  0.300223\n",
              "2001-01-05     0.292411             0.295759  ...  0.310268  0.286830\n",
              "2001-01-08     0.295759             0.306920  ...  0.303292  0.284598\n",
              "2001-01-09     0.306920             0.295759  ...  0.315011  0.295759\n",
              "2001-01-10     0.295759             0.366071  ...  0.303571  0.286830\n",
              "2001-01-23     0.366071             0.366071  ...  0.373884  0.340402\n",
              "2001-01-24     0.366071             0.356027  ...  0.369420  0.349330\n",
              "2001-01-25     0.356027             0.349330  ...  0.367188  0.352679\n",
              "2001-01-26     0.349330             0.387277  ...  0.353795  0.340402\n",
              "\n",
              "[10 rows x 8 columns]"
            ]
          },
          "metadata": {},
          "execution_count": 46
        }
      ]
    },
    {
      "cell_type": "markdown",
      "metadata": {
        "id": "AYrPbZSYtA7-"
      },
      "source": [
        "## 7 Setting the Target Variable and the Feature Dataset"
      ]
    },
    {
      "cell_type": "code",
      "metadata": {
        "colab": {
          "base_uri": "https://localhost:8080/"
        },
        "id": "tuaNIdZdtA7_",
        "outputId": "f8ba716f-1eb4-43db-db7b-5f8e9fe439a0"
      },
      "source": [
        "# setting the target variable as the shifted close_price\n",
        "y = data['close_price_shifted']\n",
        "y"
      ],
      "execution_count": null,
      "outputs": [
        {
          "output_type": "execute_result",
          "data": {
            "text/plain": [
              "Date\n",
              "2001-01-03     0.304688\n",
              "2001-01-04     0.292411\n",
              "2001-01-05     0.295759\n",
              "2001-01-08     0.306920\n",
              "2001-01-09     0.295759\n",
              "                ...    \n",
              "2020-06-23    90.014999\n",
              "2020-06-24    91.209999\n",
              "2020-06-25    88.407501\n",
              "2020-06-26    90.445000\n",
              "2020-06-29    91.199997\n",
              "Name: close_price_shifted, Length: 4874, dtype: float64"
            ]
          },
          "metadata": {},
          "execution_count": 47
        }
      ]
    },
    {
      "cell_type": "code",
      "metadata": {
        "colab": {
          "base_uri": "https://localhost:8080/",
          "height": 451
        },
        "id": "hgwplf-stA7_",
        "outputId": "f34fe7dd-7e36-4def-b546-83191780bfe6"
      },
      "source": [
        "# setting the features dataset for prediction  \n",
        "cols = ['close_price', 'compound', 'compound_shifted', 'volume', 'open_price', 'high', 'low']\n",
        "x = data[cols]\n",
        "x"
      ],
      "execution_count": null,
      "outputs": [
        {
          "output_type": "execute_result",
          "data": {
            "text/html": [
              "<div>\n",
              "<style scoped>\n",
              "    .dataframe tbody tr th:only-of-type {\n",
              "        vertical-align: middle;\n",
              "    }\n",
              "\n",
              "    .dataframe tbody tr th {\n",
              "        vertical-align: top;\n",
              "    }\n",
              "\n",
              "    .dataframe thead th {\n",
              "        text-align: right;\n",
              "    }\n",
              "</style>\n",
              "<table border=\"1\" class=\"dataframe\">\n",
              "  <thead>\n",
              "    <tr style=\"text-align: right;\">\n",
              "      <th></th>\n",
              "      <th>close_price</th>\n",
              "      <th>compound</th>\n",
              "      <th>compound_shifted</th>\n",
              "      <th>volume</th>\n",
              "      <th>open_price</th>\n",
              "      <th>high</th>\n",
              "      <th>low</th>\n",
              "    </tr>\n",
              "    <tr>\n",
              "      <th>Date</th>\n",
              "      <th></th>\n",
              "      <th></th>\n",
              "      <th></th>\n",
              "      <th></th>\n",
              "      <th></th>\n",
              "      <th></th>\n",
              "      <th></th>\n",
              "    </tr>\n",
              "  </thead>\n",
              "  <tbody>\n",
              "    <tr>\n",
              "      <th>2001-01-03</th>\n",
              "      <td>0.292411</td>\n",
              "      <td>0.6322</td>\n",
              "      <td>0.6648</td>\n",
              "      <td>817073600.0</td>\n",
              "      <td>0.258929</td>\n",
              "      <td>0.297991</td>\n",
              "      <td>0.257813</td>\n",
              "    </tr>\n",
              "    <tr>\n",
              "      <th>2001-01-04</th>\n",
              "      <td>0.304688</td>\n",
              "      <td>0.6648</td>\n",
              "      <td>0.9032</td>\n",
              "      <td>739396000.0</td>\n",
              "      <td>0.323940</td>\n",
              "      <td>0.330357</td>\n",
              "      <td>0.300223</td>\n",
              "    </tr>\n",
              "    <tr>\n",
              "      <th>2001-01-05</th>\n",
              "      <td>0.292411</td>\n",
              "      <td>0.9032</td>\n",
              "      <td>-0.9638</td>\n",
              "      <td>412356000.0</td>\n",
              "      <td>0.302455</td>\n",
              "      <td>0.310268</td>\n",
              "      <td>0.286830</td>\n",
              "    </tr>\n",
              "    <tr>\n",
              "      <th>2001-01-08</th>\n",
              "      <td>0.295759</td>\n",
              "      <td>-0.9638</td>\n",
              "      <td>-0.9559</td>\n",
              "      <td>373699200.0</td>\n",
              "      <td>0.302455</td>\n",
              "      <td>0.303292</td>\n",
              "      <td>0.284598</td>\n",
              "    </tr>\n",
              "    <tr>\n",
              "      <th>2001-01-09</th>\n",
              "      <td>0.306920</td>\n",
              "      <td>-0.9559</td>\n",
              "      <td>-0.5719</td>\n",
              "      <td>588929600.0</td>\n",
              "      <td>0.300223</td>\n",
              "      <td>0.315011</td>\n",
              "      <td>0.295759</td>\n",
              "    </tr>\n",
              "    <tr>\n",
              "      <th>...</th>\n",
              "      <td>...</td>\n",
              "      <td>...</td>\n",
              "      <td>...</td>\n",
              "      <td>...</td>\n",
              "      <td>...</td>\n",
              "      <td>...</td>\n",
              "      <td>...</td>\n",
              "    </tr>\n",
              "    <tr>\n",
              "      <th>2020-06-23</th>\n",
              "      <td>91.632500</td>\n",
              "      <td>-0.9999</td>\n",
              "      <td>-0.9997</td>\n",
              "      <td>212155600.0</td>\n",
              "      <td>91.000000</td>\n",
              "      <td>93.095001</td>\n",
              "      <td>90.567497</td>\n",
              "    </tr>\n",
              "    <tr>\n",
              "      <th>2020-06-24</th>\n",
              "      <td>90.014999</td>\n",
              "      <td>-0.9997</td>\n",
              "      <td>-0.9999</td>\n",
              "      <td>192623200.0</td>\n",
              "      <td>91.250000</td>\n",
              "      <td>92.197502</td>\n",
              "      <td>89.629997</td>\n",
              "    </tr>\n",
              "    <tr>\n",
              "      <th>2020-06-25</th>\n",
              "      <td>91.209999</td>\n",
              "      <td>-0.9999</td>\n",
              "      <td>-0.9999</td>\n",
              "      <td>137522400.0</td>\n",
              "      <td>90.175003</td>\n",
              "      <td>91.250000</td>\n",
              "      <td>89.392502</td>\n",
              "    </tr>\n",
              "    <tr>\n",
              "      <th>2020-06-26</th>\n",
              "      <td>88.407501</td>\n",
              "      <td>-0.9999</td>\n",
              "      <td>-0.9997</td>\n",
              "      <td>205256800.0</td>\n",
              "      <td>91.102501</td>\n",
              "      <td>91.330002</td>\n",
              "      <td>88.254997</td>\n",
              "    </tr>\n",
              "    <tr>\n",
              "      <th>2020-06-29</th>\n",
              "      <td>90.445000</td>\n",
              "      <td>-0.9997</td>\n",
              "      <td>-0.9998</td>\n",
              "      <td>130646000.0</td>\n",
              "      <td>88.312500</td>\n",
              "      <td>90.542503</td>\n",
              "      <td>87.820000</td>\n",
              "    </tr>\n",
              "  </tbody>\n",
              "</table>\n",
              "<p>4874 rows × 7 columns</p>\n",
              "</div>"
            ],
            "text/plain": [
              "            close_price  compound  ...       high        low\n",
              "Date                               ...                      \n",
              "2001-01-03     0.292411    0.6322  ...   0.297991   0.257813\n",
              "2001-01-04     0.304688    0.6648  ...   0.330357   0.300223\n",
              "2001-01-05     0.292411    0.9032  ...   0.310268   0.286830\n",
              "2001-01-08     0.295759   -0.9638  ...   0.303292   0.284598\n",
              "2001-01-09     0.306920   -0.9559  ...   0.315011   0.295759\n",
              "...                 ...       ...  ...        ...        ...\n",
              "2020-06-23    91.632500   -0.9999  ...  93.095001  90.567497\n",
              "2020-06-24    90.014999   -0.9997  ...  92.197502  89.629997\n",
              "2020-06-25    91.209999   -0.9999  ...  91.250000  89.392502\n",
              "2020-06-26    88.407501   -0.9999  ...  91.330002  88.254997\n",
              "2020-06-29    90.445000   -0.9997  ...  90.542503  87.820000\n",
              "\n",
              "[4874 rows x 7 columns]"
            ]
          },
          "metadata": {},
          "execution_count": 48
        }
      ]
    },
    {
      "cell_type": "markdown",
      "metadata": {
        "id": "0EPiCugGtA7_"
      },
      "source": [
        "### 8.1 Scaling the Target Variable and the Feature Dataset\n",
        "Since we are using LSTM to predict stock prices, which is a time series data, it is important to understand that LSTM can be very sensitive to the scale of the data. Right now, if the data is observed, it is present in different scales. Therefore, it is important to re-scale the data so that the range of the dataset is same, for almost all records. Here a feature range of (-1,1) is used."
      ]
    },
    {
      "cell_type": "code",
      "metadata": {
        "colab": {
          "base_uri": "https://localhost:8080/"
        },
        "id": "3yqlSVzntA7_",
        "outputId": "99cf22c5-95f7-43c0-cb5a-de2cb6a46daf"
      },
      "source": [
        "# scaling the feature dataset\n",
        "scaler_x = preprocessing.MinMaxScaler (feature_range=(-1, 1))\n",
        "x = np.array(x).reshape((len(x) ,len(cols)))\n",
        "x = scaler_x.fit_transform(x)\n",
        "\n",
        "# scaling the target variable\n",
        "scaler_y = preprocessing.MinMaxScaler (feature_range=(-1, 1))\n",
        "y = np.array (y).reshape ((len( y), 1))\n",
        "y = scaler_y.fit_transform (y)\n",
        "\n",
        "# displaying the scaled feature dataset and the target variable\n",
        "x, y"
      ],
      "execution_count": null,
      "outputs": [
        {
          "output_type": "execute_result",
          "data": {
            "text/plain": [
              "(array([[-0.99872809,  0.6322    ,  0.6648    , ..., -0.99940748,\n",
              "         -0.99865485, -0.99932101],\n",
              "        [-0.99845944,  0.6648    ,  0.9032    , ..., -0.99797895,\n",
              "         -0.99795775, -0.99838212],\n",
              "        [-0.99872809,  0.9032    , -0.9638    , ..., -0.99845105,\n",
              "         -0.99839043, -0.99867862],\n",
              "        ...,\n",
              "        [ 0.99075472, -0.9999    , -0.9999    , ...,  0.97637837,\n",
              "          0.96026251,  0.97398737],\n",
              "        [ 0.92942972, -0.9999    , -0.9997    , ...,  0.99675891,\n",
              "          0.96198559,  0.94880472],\n",
              "        [ 0.97401481, -0.9997    , -0.9998    , ...,  0.93545235,\n",
              "          0.94502449,  0.93917454]]), array([[-0.99845944],\n",
              "        [-0.99872809],\n",
              "        [-0.99865483],\n",
              "        ...,\n",
              "        [ 0.92942972],\n",
              "        [ 0.97401481],\n",
              "        [ 0.99053585]]))"
            ]
          },
          "metadata": {},
          "execution_count": 49
        }
      ]
    },
    {
      "cell_type": "markdown",
      "metadata": {
        "id": "qAtppGx0tA7_"
      },
      "source": [
        "### 8.2 Dividing the dataset into Training and Test\n",
        "Normally for any other dataset train_test_split from sklearn package is used, but for time series data like stock prices which is dependent on date, the dataset is divided into train and test dataset in a different way as shown below. In timeseries data, an observation for a particular date is always dependent on the previous date records."
      ]
    },
    {
      "cell_type": "code",
      "metadata": {
        "colab": {
          "base_uri": "https://localhost:8080/"
        },
        "id": "V6VbRxHjtA7_",
        "outputId": "dc15365e-5c28-4e04-b782-22f5a97d0c17"
      },
      "source": [
        "# preparing training and test dataset\n",
        "X_train = x[0 : train_end,]\n",
        "X_test = x[train_end+1 : len(x),]    \n",
        "y_train = y[0 : train_end] \n",
        "y_test = y[train_end+1 : len(y)]  \n",
        "\n",
        "# printing the shape of the training and the test datasets\n",
        "print('Number of rows and columns in the Training set X:', X_train.shape, 'and y:', y_train.shape)\n",
        "print('Number of rows and columns in the Test set X:', X_test.shape, 'and y:', y_test.shape)"
      ],
      "execution_count": null,
      "outputs": [
        {
          "output_type": "stream",
          "name": "stdout",
          "text": [
            "Number of rows and columns in the Training set X: (3900, 7) and y: (3900, 1)\n",
            "Number of rows and columns in the Test set X: (973, 7) and y: (973, 1)\n"
          ]
        }
      ]
    },
    {
      "cell_type": "markdown",
      "metadata": {
        "id": "u6dIcF9AtA8A"
      },
      "source": [
        "### 8.3 Reshaping the Feature Dataset"
      ]
    },
    {
      "cell_type": "code",
      "metadata": {
        "colab": {
          "base_uri": "https://localhost:8080/"
        },
        "id": "G2QCI5XltA8A",
        "outputId": "ed90f5fa-0a2e-4128-ff8c-ea7d2a9137b4"
      },
      "source": [
        "# reshaping the feature dataset for feeding into the model\n",
        "X_train = X_train.reshape (X_train.shape + (1,)) \n",
        "X_test = X_test.reshape(X_test.shape + (1,))\n",
        "\n",
        "# printing the re-shaped feature dataset\n",
        "print('Shape of Training set X:', X_train.shape)\n",
        "print('Shape of Test set X:', X_test.shape)"
      ],
      "execution_count": null,
      "outputs": [
        {
          "output_type": "stream",
          "name": "stdout",
          "text": [
            "Shape of Training set X: (3900, 7, 1)\n",
            "Shape of Test set X: (973, 7, 1)\n"
          ]
        }
      ]
    },
    {
      "cell_type": "markdown",
      "metadata": {
        "id": "8oIwg_xktA8A"
      },
      "source": [
        "## 8 Stock Data Modelling"
      ]
    },
    {
      "cell_type": "code",
      "metadata": {
        "scrolled": false,
        "colab": {
          "base_uri": "https://localhost:8080/"
        },
        "id": "vd1SgpJGtA8A",
        "outputId": "928201f6-c0f6-4ef3-8d2f-2c52251e2c2d"
      },
      "source": [
        "# setting the seed to achieve consistent and less random predictions at each execution\n",
        "np.random.seed(2016)\n",
        "\n",
        "# setting the model architecture\n",
        "model=Sequential()\n",
        "model.add(LSTM(100,return_sequences=True,activation='tanh',input_shape=(len(cols),1)))\n",
        "model.add(Dropout(0.1))\n",
        "model.add(LSTM(100,return_sequences=True,activation='tanh'))\n",
        "model.add(Dropout(0.1))\n",
        "model.add(LSTM(100,activation='tanh'))\n",
        "model.add(Dropout(0.1))\n",
        "model.add(Dense(1))\n",
        "\n",
        "# printing the model summary\n",
        "model.summary()"
      ],
      "execution_count": null,
      "outputs": [
        {
          "output_type": "stream",
          "name": "stdout",
          "text": [
            "Model: \"sequential\"\n",
            "_________________________________________________________________\n",
            "Layer (type)                 Output Shape              Param #   \n",
            "=================================================================\n",
            "lstm (LSTM)                  (None, 7, 100)            40800     \n",
            "_________________________________________________________________\n",
            "dropout (Dropout)            (None, 7, 100)            0         \n",
            "_________________________________________________________________\n",
            "lstm_1 (LSTM)                (None, 7, 100)            80400     \n",
            "_________________________________________________________________\n",
            "dropout_1 (Dropout)          (None, 7, 100)            0         \n",
            "_________________________________________________________________\n",
            "lstm_2 (LSTM)                (None, 100)               80400     \n",
            "_________________________________________________________________\n",
            "dropout_2 (Dropout)          (None, 100)               0         \n",
            "_________________________________________________________________\n",
            "dense (Dense)                (None, 1)                 101       \n",
            "=================================================================\n",
            "Total params: 201,701\n",
            "Trainable params: 201,701\n",
            "Non-trainable params: 0\n",
            "_________________________________________________________________\n"
          ]
        }
      ]
    },
    {
      "cell_type": "code",
      "metadata": {
        "colab": {
          "base_uri": "https://localhost:8080/"
        },
        "id": "BPZ4YKUAtA8A",
        "outputId": "b33f6514-c332-4a4b-bbba-f5d697d88095"
      },
      "source": [
        "# compiling the model\n",
        "model.compile(loss='mse' , optimizer='adam')\n",
        "\n",
        "# fitting the model using the training dataset\n",
        "model.fit(X_train, y_train, validation_split=0.2, epochs=10, batch_size=8, verbose=1)"
      ],
      "execution_count": null,
      "outputs": [
        {
          "output_type": "stream",
          "name": "stdout",
          "text": [
            "Epoch 1/10\n",
            "390/390 [==============================] - 12s 18ms/step - loss: 0.0340 - val_loss: 0.1452\n",
            "Epoch 2/10\n",
            "390/390 [==============================] - 6s 16ms/step - loss: 0.0119 - val_loss: 0.0143\n",
            "Epoch 3/10\n",
            "390/390 [==============================] - 6s 16ms/step - loss: 0.0027 - val_loss: 0.0011\n",
            "Epoch 4/10\n",
            "390/390 [==============================] - 6s 16ms/step - loss: 0.0021 - val_loss: 8.0244e-04\n",
            "Epoch 5/10\n",
            "390/390 [==============================] - 6s 16ms/step - loss: 0.0019 - val_loss: 8.7225e-04\n",
            "Epoch 6/10\n",
            "390/390 [==============================] - 6s 16ms/step - loss: 0.0016 - val_loss: 5.1880e-04\n",
            "Epoch 7/10\n",
            "390/390 [==============================] - 6s 16ms/step - loss: 0.0015 - val_loss: 0.0010\n",
            "Epoch 8/10\n",
            "390/390 [==============================] - 6s 15ms/step - loss: 0.0012 - val_loss: 1.5921e-04\n",
            "Epoch 9/10\n",
            "390/390 [==============================] - 6s 15ms/step - loss: 0.0013 - val_loss: 9.7266e-04\n",
            "Epoch 10/10\n",
            "390/390 [==============================] - 6s 15ms/step - loss: 0.0012 - val_loss: 3.5598e-04\n"
          ]
        },
        {
          "output_type": "execute_result",
          "data": {
            "text/plain": [
              "<keras.callbacks.History at 0x7f9278e6bf50>"
            ]
          },
          "metadata": {},
          "execution_count": 53
        }
      ]
    },
    {
      "cell_type": "markdown",
      "metadata": {
        "id": "P5tUj3wFtA8A"
      },
      "source": [
        "### 8.1 Saving the Model to disk"
      ]
    },
    {
      "cell_type": "code",
      "metadata": {
        "colab": {
          "base_uri": "https://localhost:8080/"
        },
        "id": "bZCxvMLxtA8A",
        "outputId": "3e2bc855-2557-46ed-91d7-887f00879b55"
      },
      "source": [
        "# saving the model as a json file\n",
        "model_json = model.to_json()\n",
        "with open('model.json', 'w') as json_file:\n",
        "    json_file.write(model_json)\n",
        "    \n",
        "# serialize weights to HDF5\n",
        "model.save_weights('model.h5')\n",
        "print('Model is saved to the disk')"
      ],
      "execution_count": null,
      "outputs": [
        {
          "output_type": "stream",
          "name": "stdout",
          "text": [
            "Model is saved to the disk\n"
          ]
        }
      ]
    },
    {
      "cell_type": "markdown",
      "metadata": {
        "id": "QG7g1p4OtA8A"
      },
      "source": [
        "## 9 Predictions"
      ]
    },
    {
      "cell_type": "code",
      "metadata": {
        "colab": {
          "base_uri": "https://localhost:8080/"
        },
        "id": "4WHSAsRPtA8B",
        "outputId": "f8e976d9-7066-4e9d-a7f8-2ae61e6fa1f3"
      },
      "source": [
        "# performing predictions\n",
        "predictions = model.predict(X_test) \n",
        "\n",
        "# unscaling the predictions\n",
        "predictions = scaler_y.inverse_transform(np.array(predictions).reshape((len(predictions), 1)))\n",
        "\n",
        "# printing the predictions\n",
        "print('Predictions:')\n",
        "predictions[0:5]"
      ],
      "execution_count": null,
      "outputs": [
        {
          "output_type": "stream",
          "name": "stdout",
          "text": [
            "Predictions:\n"
          ]
        },
        {
          "output_type": "execute_result",
          "data": {
            "text/plain": [
              "array([[27.947926],\n",
              "       [28.042618],\n",
              "       [27.966782],\n",
              "       [27.85278 ],\n",
              "       [27.92472 ]], dtype=float32)"
            ]
          },
          "metadata": {},
          "execution_count": 55
        }
      ]
    },
    {
      "cell_type": "markdown",
      "metadata": {
        "id": "S2s-7HzttA8B"
      },
      "source": [
        "## 10 Model Evaluation"
      ]
    },
    {
      "cell_type": "code",
      "metadata": {
        "scrolled": true,
        "colab": {
          "base_uri": "https://localhost:8080/"
        },
        "id": "kD2irg3ttA8B",
        "outputId": "44e2b79c-ad55-4a24-a9fc-815a12d2fdf5"
      },
      "source": [
        "# calculating the training mean-squared-error\n",
        "train_loss = model.evaluate(X_train, y_train, batch_size = 1)\n",
        "\n",
        "# calculating the test mean-squared-error\n",
        "test_loss = model.evaluate(X_test, y_test, batch_size = 1)\n",
        "\n",
        "# printing the training and the test mean-squared-errors\n",
        "print('Train Loss =', round(train_loss,4))\n",
        "print('Test Loss =', round(test_loss,4))"
      ],
      "execution_count": null,
      "outputs": [
        {
          "output_type": "stream",
          "name": "stdout",
          "text": [
            "3900/3900 [==============================] - 13s 3ms/step - loss: 1.4195e-04\n",
            "973/973 [==============================] - 3s 3ms/step - loss: 0.0070\n",
            "Train Loss = 0.0001\n",
            "Test Loss = 0.007\n"
          ]
        }
      ]
    },
    {
      "cell_type": "code",
      "metadata": {
        "colab": {
          "base_uri": "https://localhost:8080/"
        },
        "id": "n8AIITEKtA8B",
        "outputId": "005e34fa-085b-403e-c770-c23708ee1409"
      },
      "source": [
        "# calculating root mean squared error\n",
        "root_mean_square_error = np.sqrt(np.mean(np.power((y_test - predictions),2)))\n",
        "print('Root Mean Square Error =', round(root_mean_square_error,4))"
      ],
      "execution_count": null,
      "outputs": [
        {
          "output_type": "stream",
          "name": "stdout",
          "text": [
            "Root Mean Square Error = 53.3557\n"
          ]
        }
      ]
    },
    {
      "cell_type": "code",
      "metadata": {
        "colab": {
          "base_uri": "https://localhost:8080/"
        },
        "id": "7e3oTwkLtA8B",
        "outputId": "2bf88556-7cfa-4821-8c81-bbe2256ecf67"
      },
      "source": [
        "# calculating root mean squared error using sklearn.metrics package\n",
        "rmse = metrics.mean_squared_error(y_test, predictions)\n",
        "print('Root Mean Square Error (sklearn.metrics) =', round(np.sqrt(rmse),4))"
      ],
      "execution_count": null,
      "outputs": [
        {
          "output_type": "stream",
          "name": "stdout",
          "text": [
            "Root Mean Square Error (sklearn.metrics) = 53.3557\n"
          ]
        }
      ]
    },
    {
      "cell_type": "markdown",
      "metadata": {
        "id": "X3W9AyYttA8B"
      },
      "source": [
        "## 11 Plotting the Predictions against unseen data"
      ]
    },
    {
      "cell_type": "code",
      "metadata": {
        "id": "dJql-S13tA8B"
      },
      "source": [
        "# unscaling the test feature dataset, x_test\n",
        "X_test = scaler_x.inverse_transform(np.array(X_test).reshape((len(X_test), len(cols))))\n",
        "\n",
        "# unscaling the test y dataset, y_test\n",
        "y_train = scaler_y.inverse_transform(np.array(y_train).reshape((len(y_train), 1)))\n",
        "y_test = scaler_y.inverse_transform(np.array(y_test).reshape((len(y_test), 1)))"
      ],
      "execution_count": null,
      "outputs": []
    },
    {
      "cell_type": "code",
      "metadata": {
        "colab": {
          "base_uri": "https://localhost:8080/",
          "height": 625
        },
        "id": "ZsZiGLNmtA8B",
        "outputId": "e40f7253-2325-441f-d767-e1fdbc5962a7"
      },
      "source": [
        "# plotting\n",
        "plt.figure(figsize=(16,10))\n",
        "\n",
        "# plt.plot([row[0] for row in y_train], label=\"Training Close Price\")\n",
        "plt.plot(predictions, label=\"Predicted Close Price\")\n",
        "plt.plot([row[0] for row in y_test], label=\"Testing Close Price\")\n",
        "plt.legend(loc='upper center', bbox_to_anchor=(0.5, -0.05), fancybox=True, shadow=True, ncol=2)\n",
        "plt.show()"
      ],
      "execution_count": null,
      "outputs": [
        {
          "output_type": "display_data",
          "data": {
            "image/png": "[encoded data removed]",
            "text/plain": [
              "<Figure size 1152x720 with 1 Axes>"
            ]
          },
          "metadata": {
            "needs_background": "light"
          }
        }
      ]
    }
  ]
}